{
 "cells": [
  {
   "cell_type": "markdown",
   "metadata": {},
   "source": [
    "# Lesson 23: Random number generation\n",
    "\n",
    "<hr>"
   ]
  },
  {
   "cell_type": "code",
   "execution_count": 1,
   "metadata": {},
   "outputs": [
    {
     "data": {
      "text/html": [
       "\n",
       "    <div class=\"bk-root\">\n",
       "        <a href=\"https://bokeh.org\" target=\"_blank\" class=\"bk-logo bk-logo-small bk-logo-notebook\"></a>\n",
       "        <span id=\"1002\">Loading BokehJS ...</span>\n",
       "    </div>"
      ]
     },
     "metadata": {},
     "output_type": "display_data"
    },
    {
     "data": {
      "application/javascript": [
       "\n",
       "(function(root) {\n",
       "  function now() {\n",
       "    return new Date();\n",
       "  }\n",
       "\n",
       "  var force = true;\n",
       "\n",
       "  if (typeof root._bokeh_onload_callbacks === \"undefined\" || force === true) {\n",
       "    root._bokeh_onload_callbacks = [];\n",
       "    root._bokeh_is_loading = undefined;\n",
       "  }\n",
       "\n",
       "  var JS_MIME_TYPE = 'application/javascript';\n",
       "  var HTML_MIME_TYPE = 'text/html';\n",
       "  var EXEC_MIME_TYPE = 'application/vnd.bokehjs_exec.v0+json';\n",
       "  var CLASS_NAME = 'output_bokeh rendered_html';\n",
       "\n",
       "  /**\n",
       "   * Render data to the DOM node\n",
       "   */\n",
       "  function render(props, node) {\n",
       "    var script = document.createElement(\"script\");\n",
       "    node.appendChild(script);\n",
       "  }\n",
       "\n",
       "  /**\n",
       "   * Handle when an output is cleared or removed\n",
       "   */\n",
       "  function handleClearOutput(event, handle) {\n",
       "    var cell = handle.cell;\n",
       "\n",
       "    var id = cell.output_area._bokeh_element_id;\n",
       "    var server_id = cell.output_area._bokeh_server_id;\n",
       "    // Clean up Bokeh references\n",
       "    if (id != null && id in Bokeh.index) {\n",
       "      Bokeh.index[id].model.document.clear();\n",
       "      delete Bokeh.index[id];\n",
       "    }\n",
       "\n",
       "    if (server_id !== undefined) {\n",
       "      // Clean up Bokeh references\n",
       "      var cmd = \"from bokeh.io.state import curstate; print(curstate().uuid_to_server['\" + server_id + \"'].get_sessions()[0].document.roots[0]._id)\";\n",
       "      cell.notebook.kernel.execute(cmd, {\n",
       "        iopub: {\n",
       "          output: function(msg) {\n",
       "            var id = msg.content.text.trim();\n",
       "            if (id in Bokeh.index) {\n",
       "              Bokeh.index[id].model.document.clear();\n",
       "              delete Bokeh.index[id];\n",
       "            }\n",
       "          }\n",
       "        }\n",
       "      });\n",
       "      // Destroy server and session\n",
       "      var cmd = \"import bokeh.io.notebook as ion; ion.destroy_server('\" + server_id + \"')\";\n",
       "      cell.notebook.kernel.execute(cmd);\n",
       "    }\n",
       "  }\n",
       "\n",
       "  /**\n",
       "   * Handle when a new output is added\n",
       "   */\n",
       "  function handleAddOutput(event, handle) {\n",
       "    var output_area = handle.output_area;\n",
       "    var output = handle.output;\n",
       "\n",
       "    // limit handleAddOutput to display_data with EXEC_MIME_TYPE content only\n",
       "    if ((output.output_type != \"display_data\") || (!Object.prototype.hasOwnProperty.call(output.data, EXEC_MIME_TYPE))) {\n",
       "      return\n",
       "    }\n",
       "\n",
       "    var toinsert = output_area.element.find(\".\" + CLASS_NAME.split(' ')[0]);\n",
       "\n",
       "    if (output.metadata[EXEC_MIME_TYPE][\"id\"] !== undefined) {\n",
       "      toinsert[toinsert.length - 1].firstChild.textContent = output.data[JS_MIME_TYPE];\n",
       "      // store reference to embed id on output_area\n",
       "      output_area._bokeh_element_id = output.metadata[EXEC_MIME_TYPE][\"id\"];\n",
       "    }\n",
       "    if (output.metadata[EXEC_MIME_TYPE][\"server_id\"] !== undefined) {\n",
       "      var bk_div = document.createElement(\"div\");\n",
       "      bk_div.innerHTML = output.data[HTML_MIME_TYPE];\n",
       "      var script_attrs = bk_div.children[0].attributes;\n",
       "      for (var i = 0; i < script_attrs.length; i++) {\n",
       "        toinsert[toinsert.length - 1].firstChild.setAttribute(script_attrs[i].name, script_attrs[i].value);\n",
       "        toinsert[toinsert.length - 1].firstChild.textContent = bk_div.children[0].textContent\n",
       "      }\n",
       "      // store reference to server id on output_area\n",
       "      output_area._bokeh_server_id = output.metadata[EXEC_MIME_TYPE][\"server_id\"];\n",
       "    }\n",
       "  }\n",
       "\n",
       "  function register_renderer(events, OutputArea) {\n",
       "\n",
       "    function append_mime(data, metadata, element) {\n",
       "      // create a DOM node to render to\n",
       "      var toinsert = this.create_output_subarea(\n",
       "        metadata,\n",
       "        CLASS_NAME,\n",
       "        EXEC_MIME_TYPE\n",
       "      );\n",
       "      this.keyboard_manager.register_events(toinsert);\n",
       "      // Render to node\n",
       "      var props = {data: data, metadata: metadata[EXEC_MIME_TYPE]};\n",
       "      render(props, toinsert[toinsert.length - 1]);\n",
       "      element.append(toinsert);\n",
       "      return toinsert\n",
       "    }\n",
       "\n",
       "    /* Handle when an output is cleared or removed */\n",
       "    events.on('clear_output.CodeCell', handleClearOutput);\n",
       "    events.on('delete.Cell', handleClearOutput);\n",
       "\n",
       "    /* Handle when a new output is added */\n",
       "    events.on('output_added.OutputArea', handleAddOutput);\n",
       "\n",
       "    /**\n",
       "     * Register the mime type and append_mime function with output_area\n",
       "     */\n",
       "    OutputArea.prototype.register_mime_type(EXEC_MIME_TYPE, append_mime, {\n",
       "      /* Is output safe? */\n",
       "      safe: true,\n",
       "      /* Index of renderer in `output_area.display_order` */\n",
       "      index: 0\n",
       "    });\n",
       "  }\n",
       "\n",
       "  // register the mime type if in Jupyter Notebook environment and previously unregistered\n",
       "  if (root.Jupyter !== undefined) {\n",
       "    var events = require('base/js/events');\n",
       "    var OutputArea = require('notebook/js/outputarea').OutputArea;\n",
       "\n",
       "    if (OutputArea.prototype.mime_types().indexOf(EXEC_MIME_TYPE) == -1) {\n",
       "      register_renderer(events, OutputArea);\n",
       "    }\n",
       "  }\n",
       "\n",
       "  \n",
       "  if (typeof (root._bokeh_timeout) === \"undefined\" || force === true) {\n",
       "    root._bokeh_timeout = Date.now() + 5000;\n",
       "    root._bokeh_failed_load = false;\n",
       "  }\n",
       "\n",
       "  var NB_LOAD_WARNING = {'data': {'text/html':\n",
       "     \"<div style='background-color: #fdd'>\\n\"+\n",
       "     \"<p>\\n\"+\n",
       "     \"BokehJS does not appear to have successfully loaded. If loading BokehJS from CDN, this \\n\"+\n",
       "     \"may be due to a slow or bad network connection. Possible fixes:\\n\"+\n",
       "     \"</p>\\n\"+\n",
       "     \"<ul>\\n\"+\n",
       "     \"<li>re-rerun `output_notebook()` to attempt to load from CDN again, or</li>\\n\"+\n",
       "     \"<li>use INLINE resources instead, as so:</li>\\n\"+\n",
       "     \"</ul>\\n\"+\n",
       "     \"<code>\\n\"+\n",
       "     \"from bokeh.resources import INLINE\\n\"+\n",
       "     \"output_notebook(resources=INLINE)\\n\"+\n",
       "     \"</code>\\n\"+\n",
       "     \"</div>\"}};\n",
       "\n",
       "  function display_loaded() {\n",
       "    var el = document.getElementById(\"1002\");\n",
       "    if (el != null) {\n",
       "      el.textContent = \"BokehJS is loading...\";\n",
       "    }\n",
       "    if (root.Bokeh !== undefined) {\n",
       "      if (el != null) {\n",
       "        el.textContent = \"BokehJS \" + root.Bokeh.version + \" successfully loaded.\";\n",
       "      }\n",
       "    } else if (Date.now() < root._bokeh_timeout) {\n",
       "      setTimeout(display_loaded, 100)\n",
       "    }\n",
       "  }\n",
       "\n",
       "\n",
       "  function run_callbacks() {\n",
       "    try {\n",
       "      root._bokeh_onload_callbacks.forEach(function(callback) {\n",
       "        if (callback != null)\n",
       "          callback();\n",
       "      });\n",
       "    } finally {\n",
       "      delete root._bokeh_onload_callbacks\n",
       "    }\n",
       "    console.debug(\"Bokeh: all callbacks have finished\");\n",
       "  }\n",
       "\n",
       "  function load_libs(css_urls, js_urls, callback) {\n",
       "    if (css_urls == null) css_urls = [];\n",
       "    if (js_urls == null) js_urls = [];\n",
       "\n",
       "    root._bokeh_onload_callbacks.push(callback);\n",
       "    if (root._bokeh_is_loading > 0) {\n",
       "      console.debug(\"Bokeh: BokehJS is being loaded, scheduling callback at\", now());\n",
       "      return null;\n",
       "    }\n",
       "    if (js_urls == null || js_urls.length === 0) {\n",
       "      run_callbacks();\n",
       "      return null;\n",
       "    }\n",
       "    console.debug(\"Bokeh: BokehJS not loaded, scheduling load and callback at\", now());\n",
       "    root._bokeh_is_loading = css_urls.length + js_urls.length;\n",
       "\n",
       "    function on_load() {\n",
       "      root._bokeh_is_loading--;\n",
       "      if (root._bokeh_is_loading === 0) {\n",
       "        console.debug(\"Bokeh: all BokehJS libraries/stylesheets loaded\");\n",
       "        run_callbacks()\n",
       "      }\n",
       "    }\n",
       "\n",
       "    function on_error(url) {\n",
       "      console.error(\"failed to load \" + url);\n",
       "    }\n",
       "\n",
       "    for (let i = 0; i < css_urls.length; i++) {\n",
       "      const url = css_urls[i];\n",
       "      const element = document.createElement(\"link\");\n",
       "      element.onload = on_load;\n",
       "      element.onerror = on_error.bind(null, url);\n",
       "      element.rel = \"stylesheet\";\n",
       "      element.type = \"text/css\";\n",
       "      element.href = url;\n",
       "      console.debug(\"Bokeh: injecting link tag for BokehJS stylesheet: \", url);\n",
       "      document.body.appendChild(element);\n",
       "    }\n",
       "\n",
       "    const hashes = {\"https://cdn.bokeh.org/bokeh/release/bokeh-2.3.2.min.js\": \"XypntL49z55iwGVUW4qsEu83zKL3XEcz0MjuGOQ9SlaaQ68X/g+k1FcioZi7oQAc\", \"https://cdn.bokeh.org/bokeh/release/bokeh-tables-2.3.2.min.js\": \"bEsM86IHGDTLCS0Zod8a8WM6Y4+lafAL/eSiyQcuPzinmWNgNO2/olUF0Z2Dkn5i\", \"https://cdn.bokeh.org/bokeh/release/bokeh-widgets-2.3.2.min.js\": \"TX0gSQTdXTTeScqxj6PVQxTiRW8DOoGVwinyi1D3kxv7wuxQ02XkOxv0xwiypcAH\"};\n",
       "\n",
       "    for (let i = 0; i < js_urls.length; i++) {\n",
       "      const url = js_urls[i];\n",
       "      const element = document.createElement('script');\n",
       "      element.onload = on_load;\n",
       "      element.onerror = on_error.bind(null, url);\n",
       "      element.async = false;\n",
       "      element.src = url;\n",
       "      if (url in hashes) {\n",
       "        element.crossOrigin = \"anonymous\";\n",
       "        element.integrity = \"sha384-\" + hashes[url];\n",
       "      }\n",
       "      console.debug(\"Bokeh: injecting script tag for BokehJS library: \", url);\n",
       "      document.head.appendChild(element);\n",
       "    }\n",
       "  };\n",
       "\n",
       "  function inject_raw_css(css) {\n",
       "    const element = document.createElement(\"style\");\n",
       "    element.appendChild(document.createTextNode(css));\n",
       "    document.body.appendChild(element);\n",
       "  }\n",
       "\n",
       "  \n",
       "  var js_urls = [\"https://cdn.bokeh.org/bokeh/release/bokeh-2.3.2.min.js\", \"https://cdn.bokeh.org/bokeh/release/bokeh-widgets-2.3.2.min.js\", \"https://cdn.bokeh.org/bokeh/release/bokeh-tables-2.3.2.min.js\"];\n",
       "  var css_urls = [];\n",
       "  \n",
       "\n",
       "  var inline_js = [\n",
       "    function(Bokeh) {\n",
       "      Bokeh.set_log_level(\"info\");\n",
       "    },\n",
       "    function(Bokeh) {\n",
       "    \n",
       "    \n",
       "    }\n",
       "  ];\n",
       "\n",
       "  function run_inline_js() {\n",
       "    \n",
       "    if (root.Bokeh !== undefined || force === true) {\n",
       "      \n",
       "    for (var i = 0; i < inline_js.length; i++) {\n",
       "      inline_js[i].call(root, root.Bokeh);\n",
       "    }\n",
       "    if (force === true) {\n",
       "        display_loaded();\n",
       "      }} else if (Date.now() < root._bokeh_timeout) {\n",
       "      setTimeout(run_inline_js, 100);\n",
       "    } else if (!root._bokeh_failed_load) {\n",
       "      console.log(\"Bokeh: BokehJS failed to load within specified timeout.\");\n",
       "      root._bokeh_failed_load = true;\n",
       "    } else if (force !== true) {\n",
       "      var cell = $(document.getElementById(\"1002\")).parents('.cell').data().cell;\n",
       "      cell.output_area.append_execute_result(NB_LOAD_WARNING)\n",
       "    }\n",
       "\n",
       "  }\n",
       "\n",
       "  if (root._bokeh_is_loading === 0) {\n",
       "    console.debug(\"Bokeh: BokehJS loaded, going straight to plotting\");\n",
       "    run_inline_js();\n",
       "  } else {\n",
       "    load_libs(css_urls, js_urls, function() {\n",
       "      console.debug(\"Bokeh: BokehJS plotting callback run at\", now());\n",
       "      run_inline_js();\n",
       "    });\n",
       "  }\n",
       "}(window));"
      ],
      "application/vnd.bokehjs_load.v0+json": "\n(function(root) {\n  function now() {\n    return new Date();\n  }\n\n  var force = true;\n\n  if (typeof root._bokeh_onload_callbacks === \"undefined\" || force === true) {\n    root._bokeh_onload_callbacks = [];\n    root._bokeh_is_loading = undefined;\n  }\n\n  \n\n  \n  if (typeof (root._bokeh_timeout) === \"undefined\" || force === true) {\n    root._bokeh_timeout = Date.now() + 5000;\n    root._bokeh_failed_load = false;\n  }\n\n  var NB_LOAD_WARNING = {'data': {'text/html':\n     \"<div style='background-color: #fdd'>\\n\"+\n     \"<p>\\n\"+\n     \"BokehJS does not appear to have successfully loaded. If loading BokehJS from CDN, this \\n\"+\n     \"may be due to a slow or bad network connection. Possible fixes:\\n\"+\n     \"</p>\\n\"+\n     \"<ul>\\n\"+\n     \"<li>re-rerun `output_notebook()` to attempt to load from CDN again, or</li>\\n\"+\n     \"<li>use INLINE resources instead, as so:</li>\\n\"+\n     \"</ul>\\n\"+\n     \"<code>\\n\"+\n     \"from bokeh.resources import INLINE\\n\"+\n     \"output_notebook(resources=INLINE)\\n\"+\n     \"</code>\\n\"+\n     \"</div>\"}};\n\n  function display_loaded() {\n    var el = document.getElementById(\"1002\");\n    if (el != null) {\n      el.textContent = \"BokehJS is loading...\";\n    }\n    if (root.Bokeh !== undefined) {\n      if (el != null) {\n        el.textContent = \"BokehJS \" + root.Bokeh.version + \" successfully loaded.\";\n      }\n    } else if (Date.now() < root._bokeh_timeout) {\n      setTimeout(display_loaded, 100)\n    }\n  }\n\n\n  function run_callbacks() {\n    try {\n      root._bokeh_onload_callbacks.forEach(function(callback) {\n        if (callback != null)\n          callback();\n      });\n    } finally {\n      delete root._bokeh_onload_callbacks\n    }\n    console.debug(\"Bokeh: all callbacks have finished\");\n  }\n\n  function load_libs(css_urls, js_urls, callback) {\n    if (css_urls == null) css_urls = [];\n    if (js_urls == null) js_urls = [];\n\n    root._bokeh_onload_callbacks.push(callback);\n    if (root._bokeh_is_loading > 0) {\n      console.debug(\"Bokeh: BokehJS is being loaded, scheduling callback at\", now());\n      return null;\n    }\n    if (js_urls == null || js_urls.length === 0) {\n      run_callbacks();\n      return null;\n    }\n    console.debug(\"Bokeh: BokehJS not loaded, scheduling load and callback at\", now());\n    root._bokeh_is_loading = css_urls.length + js_urls.length;\n\n    function on_load() {\n      root._bokeh_is_loading--;\n      if (root._bokeh_is_loading === 0) {\n        console.debug(\"Bokeh: all BokehJS libraries/stylesheets loaded\");\n        run_callbacks()\n      }\n    }\n\n    function on_error(url) {\n      console.error(\"failed to load \" + url);\n    }\n\n    for (let i = 0; i < css_urls.length; i++) {\n      const url = css_urls[i];\n      const element = document.createElement(\"link\");\n      element.onload = on_load;\n      element.onerror = on_error.bind(null, url);\n      element.rel = \"stylesheet\";\n      element.type = \"text/css\";\n      element.href = url;\n      console.debug(\"Bokeh: injecting link tag for BokehJS stylesheet: \", url);\n      document.body.appendChild(element);\n    }\n\n    const hashes = {\"https://cdn.bokeh.org/bokeh/release/bokeh-2.3.2.min.js\": \"XypntL49z55iwGVUW4qsEu83zKL3XEcz0MjuGOQ9SlaaQ68X/g+k1FcioZi7oQAc\", \"https://cdn.bokeh.org/bokeh/release/bokeh-tables-2.3.2.min.js\": \"bEsM86IHGDTLCS0Zod8a8WM6Y4+lafAL/eSiyQcuPzinmWNgNO2/olUF0Z2Dkn5i\", \"https://cdn.bokeh.org/bokeh/release/bokeh-widgets-2.3.2.min.js\": \"TX0gSQTdXTTeScqxj6PVQxTiRW8DOoGVwinyi1D3kxv7wuxQ02XkOxv0xwiypcAH\"};\n\n    for (let i = 0; i < js_urls.length; i++) {\n      const url = js_urls[i];\n      const element = document.createElement('script');\n      element.onload = on_load;\n      element.onerror = on_error.bind(null, url);\n      element.async = false;\n      element.src = url;\n      if (url in hashes) {\n        element.crossOrigin = \"anonymous\";\n        element.integrity = \"sha384-\" + hashes[url];\n      }\n      console.debug(\"Bokeh: injecting script tag for BokehJS library: \", url);\n      document.head.appendChild(element);\n    }\n  };\n\n  function inject_raw_css(css) {\n    const element = document.createElement(\"style\");\n    element.appendChild(document.createTextNode(css));\n    document.body.appendChild(element);\n  }\n\n  \n  var js_urls = [\"https://cdn.bokeh.org/bokeh/release/bokeh-2.3.2.min.js\", \"https://cdn.bokeh.org/bokeh/release/bokeh-widgets-2.3.2.min.js\", \"https://cdn.bokeh.org/bokeh/release/bokeh-tables-2.3.2.min.js\"];\n  var css_urls = [];\n  \n\n  var inline_js = [\n    function(Bokeh) {\n      Bokeh.set_log_level(\"info\");\n    },\n    function(Bokeh) {\n    \n    \n    }\n  ];\n\n  function run_inline_js() {\n    \n    if (root.Bokeh !== undefined || force === true) {\n      \n    for (var i = 0; i < inline_js.length; i++) {\n      inline_js[i].call(root, root.Bokeh);\n    }\n    if (force === true) {\n        display_loaded();\n      }} else if (Date.now() < root._bokeh_timeout) {\n      setTimeout(run_inline_js, 100);\n    } else if (!root._bokeh_failed_load) {\n      console.log(\"Bokeh: BokehJS failed to load within specified timeout.\");\n      root._bokeh_failed_load = true;\n    } else if (force !== true) {\n      var cell = $(document.getElementById(\"1002\")).parents('.cell').data().cell;\n      cell.output_area.append_execute_result(NB_LOAD_WARNING)\n    }\n\n  }\n\n  if (root._bokeh_is_loading === 0) {\n    console.debug(\"Bokeh: BokehJS loaded, going straight to plotting\");\n    run_inline_js();\n  } else {\n    load_libs(css_urls, js_urls, function() {\n      console.debug(\"Bokeh: BokehJS plotting callback run at\", now());\n      run_inline_js();\n    });\n  }\n}(window));"
     },
     "metadata": {},
     "output_type": "display_data"
    }
   ],
   "source": [
    "import numpy as np\n",
    "import pandas as pd\n",
    "import scipy.stats\n",
    "\n",
    "import iqplot\n",
    "\n",
    "import bokeh.io\n",
    "import bokeh.plotting\n",
    "\n",
    "bokeh.io.output_notebook()"
   ]
  },
  {
   "cell_type": "markdown",
   "metadata": {},
   "source": [
    "<hr>\n",
    "\n",
    "**Random number generation** (RNG) is the process by which a string of random numbers may be drawn. Of course, the numbers are not completely random for several reasons.\n",
    "\n",
    "1. They are drawn from a probability distribution. The most common one is the uniform distribution on the domain $0 \\le x < 1$, i.e., random numbers between zero and one. (\"Completely random\" does not make sense because of the infinite magnitude of numbers.) \n",
    "2. In most computer applications, including the ones we'll use in bootcamp, the random numbers are actually pseudorandom. They depend entirely on an input **seed** and are then generated by a deterministic algorithm from that seed.\n",
    "\n",
    "This is a bit academic. Let's jump right in generating random numbers. Much of the random number generation functionality you will need is in the `np.random` module. Let's start by generating random numbers from a Uniform distribution."
   ]
  },
  {
   "cell_type": "code",
   "execution_count": 2,
   "metadata": {},
   "outputs": [
    {
     "data": {
      "text/plain": [
       "array([0.34622513, 0.36582999, 0.9037887 , 0.67332884, 0.35042864,\n",
       "       0.48843705, 0.34337653, 0.8590523 , 0.52046865, 0.1402078 ])"
      ]
     },
     "execution_count": 2,
     "metadata": {},
     "output_type": "execute_result"
    }
   ],
   "source": [
    "np.random.uniform(low=0, high=1, size=10)"
   ]
  },
  {
   "cell_type": "markdown",
   "metadata": {},
   "source": [
    "The function `uniform()` in the `np.random` module generates random numbers on the interval \\[`low`, `high`) from a Uniform distribution. The `size` kwarg is how many random numbers you wish to generate, and is a kwarg in all of Numpy's random number generators. The random numbers are returned as a NumPy array.\n",
    "\n",
    "We can check to make sure it is appropriately drawing random numbers out of the uniform distribution by plotting the cumulative distribution function, just like we did last time.  We'll generate 1,000 random numbers and plot them along with the CDF of a Uniform distribution."
   ]
  },
  {
   "cell_type": "code",
   "execution_count": 3,
   "metadata": {},
   "outputs": [
    {
     "data": {
      "text/html": [
       "\n",
       "\n",
       "\n",
       "\n",
       "\n",
       "\n",
       "  <div class=\"bk-root\" id=\"a4640077-3b7c-458f-9d64-79c1de0554c4\" data-root-id=\"1003\"></div>\n"
      ]
     },
     "metadata": {},
     "output_type": "display_data"
    },
    {
     "data": {
      "application/javascript": [
       "(function(root) {\n",
       "  function embed_document(root) {\n",
       "    \n",
       "  var docs_json = {\"f879cef6-7370-4c43-8f94-97a4c9958ae5\":{\"defs\":[],\"roots\":{\"references\":[{\"attributes\":{\"below\":[{\"id\":\"1012\"}],\"center\":[{\"id\":\"1015\"},{\"id\":\"1019\"}],\"frame_height\":275,\"frame_width\":375,\"left\":[{\"id\":\"1016\"}],\"renderers\":[{\"id\":\"1038\"},{\"id\":\"1043\"}],\"title\":{\"id\":\"1046\"},\"toolbar\":{\"id\":\"1027\"},\"toolbar_location\":\"above\",\"x_range\":{\"id\":\"1004\"},\"x_scale\":{\"id\":\"1008\"},\"y_range\":{\"id\":\"1006\"},\"y_scale\":{\"id\":\"1010\"}},\"id\":\"1003\",\"subtype\":\"Figure\",\"type\":\"Plot\"},{\"attributes\":{\"source\":{\"id\":\"1034\"}},\"id\":\"1039\",\"type\":\"CDSView\"},{\"attributes\":{\"data_source\":{\"id\":\"1040\"},\"glyph\":{\"id\":\"1041\"},\"hover_glyph\":null,\"muted_glyph\":null,\"nonselection_glyph\":{\"id\":\"1042\"},\"view\":{\"id\":\"1044\"}},\"id\":\"1043\",\"type\":\"GlyphRenderer\"},{\"attributes\":{\"bottom_units\":\"screen\",\"fill_alpha\":0.5,\"fill_color\":\"lightgrey\",\"left_units\":\"screen\",\"level\":\"overlay\",\"line_alpha\":1.0,\"line_color\":\"black\",\"line_dash\":[4,4],\"line_width\":2,\"right_units\":\"screen\",\"syncable\":false,\"top_units\":\"screen\"},\"id\":\"1026\",\"type\":\"BoxAnnotation\"},{\"attributes\":{\"fill_alpha\":{\"value\":0.1},\"fill_color\":{\"value\":\"#1f77b3\"},\"line_alpha\":{\"value\":0.1},\"line_color\":{\"value\":\"#1f77b3\"},\"x\":{\"field\":\"x\"},\"y\":{\"field\":\"__ECDF\"}},\"id\":\"1037\",\"type\":\"Circle\"},{\"attributes\":{\"axis_label\":\"x\",\"formatter\":{\"id\":\"1050\"},\"major_label_policy\":{\"id\":\"1052\"},\"ticker\":{\"id\":\"1013\"}},\"id\":\"1012\",\"type\":\"LinearAxis\"},{\"attributes\":{},\"id\":\"1053\",\"type\":\"Selection\"},{\"attributes\":{},\"id\":\"1008\",\"type\":\"LinearScale\"},{\"attributes\":{\"active_multi\":null,\"tools\":[{\"id\":\"1020\"},{\"id\":\"1021\"},{\"id\":\"1022\"},{\"id\":\"1023\"},{\"id\":\"1024\"},{\"id\":\"1025\"}]},\"id\":\"1027\",\"type\":\"Toolbar\"},{\"attributes\":{\"line_alpha\":0.1,\"line_color\":\"orange\",\"line_width\":2,\"x\":{\"field\":\"x\"},\"y\":{\"field\":\"y\"}},\"id\":\"1042\",\"type\":\"Line\"},{\"attributes\":{},\"id\":\"1054\",\"type\":\"UnionRenderers\"},{\"attributes\":{},\"id\":\"1049\",\"type\":\"AllLabels\"},{\"attributes\":{},\"id\":\"1013\",\"type\":\"BasicTicker\"},{\"attributes\":{},\"id\":\"1020\",\"type\":\"PanTool\"},{\"attributes\":{},\"id\":\"1006\",\"type\":\"DataRange1d\"},{\"attributes\":{},\"id\":\"1017\",\"type\":\"BasicTicker\"},{\"attributes\":{},\"id\":\"1004\",\"type\":\"DataRange1d\"},{\"attributes\":{\"data\":{\"__ECDF\":{\"__ndarray__\":\"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\",\"dtype\":\"float64\",\"order\":\"little\",\"shape\":[1000]},\"__dummy_cat\":[\" \",\" \",\" \",\" \",\" \",\" \",\" \",\" \",\" \",\" \",\" \",\" \",\" \",\" \",\" \",\" \",\" \",\" \",\" \",\" \",\" \",\" \",\" \",\" \",\" \",\" \",\" \",\" \",\" \",\" \",\" \",\" \",\" \",\" \",\" \",\" \",\" \",\" \",\" \",\" \",\" \",\" \",\" \",\" \",\" \",\" \",\" \",\" \",\" \",\" \",\" \",\" \",\" \",\" \",\" \",\" \",\" \",\" \",\" \",\" \",\" \",\" \",\" \",\" \",\" \",\" \",\" \",\" \",\" \",\" \",\" \",\" \",\" \",\" \",\" \",\" \",\" \",\" \",\" \",\" \",\" \",\" \",\" \",\" \",\" \",\" \",\" \",\" \",\" \",\" \",\" \",\" \",\" \",\" \",\" \",\" \",\" \",\" \",\" \",\" \",\" \",\" \",\" \",\" \",\" \",\" \",\" \",\" \",\" \",\" \",\" \",\" \",\" \",\" \",\" \",\" \",\" \",\" \",\" \",\" \",\" \",\" \",\" \",\" \",\" \",\" \",\" \",\" \",\" \",\" \",\" \",\" \",\" \",\" \",\" \",\" \",\" \",\" \",\" \",\" \",\" \",\" \",\" \",\" \",\" \",\" \",\" \",\" \",\" \",\" \",\" \",\" \",\" \",\" \",\" \",\" \",\" \",\" \",\" \",\" \",\" \",\" \",\" \",\" \",\" \",\" \",\" \",\" \",\" \",\" \",\" \",\" \",\" \",\" \",\" \",\" \",\" \",\" \",\" \",\" \",\" \",\" \",\" \",\" \",\" \",\" \",\" \",\" \",\" \",\" \",\" \",\" \",\" \",\" \",\" \",\" \",\" \",\" \",\" \",\" \",\" \",\" \",\" \",\" \",\" \",\" \",\" \",\" \",\" \",\" \",\" \",\" \",\" \",\" \",\" \",\" \",\" \",\" \",\" \",\" \",\" \",\" \",\" \",\" \",\" \",\" \",\" \",\" \",\" \",\" \",\" \",\" \",\" \",\" \",\" \",\" \",\" \",\" \",\" \",\" \",\" \",\" \",\" \",\" \",\" \",\" \",\" \",\" \",\" \",\" \",\" \",\" \",\" \",\" \",\" \",\" \",\" \",\" \",\" \",\" \",\" \",\" \",\" \",\" \",\" \",\" \",\" \",\" \",\" \",\" \",\" \",\" \",\" \",\" \",\" \",\" \",\" \",\" \",\" \",\" \",\" \",\" \",\" \",\" \",\" \",\" \",\" \",\" \",\" \",\" \",\" \",\" \",\" \",\" \",\" \",\" \",\" \",\" \",\" \",\" \",\" \",\" \",\" \",\" \",\" \",\" \",\" \",\" \",\" \",\" \",\" \",\" \",\" \",\" \",\" \",\" \",\" \",\" \",\" \",\" \",\" \",\" \",\" \",\" \",\" \",\" \",\" \",\" \",\" \",\" \",\" \",\" \",\" \",\" \",\" \",\" \",\" \",\" \",\" \",\" \",\" \",\" \",\" \",\" \",\" \",\" \",\" \",\" \",\" \",\" \",\" \",\" \",\" \",\" \",\" \",\" \",\" \",\" \",\" \",\" \",\" \",\" \",\" \",\" \",\" \",\" \",\" \",\" \",\" \",\" \",\" \",\" \",\" \",\" \",\" \",\" \",\" \",\" \",\" \",\" \",\" \",\" \",\" \",\" \",\" \",\" \",\" \",\" \",\" \",\" \",\" \",\" \",\" \",\" \",\" \",\" \",\" \",\" \",\" \",\" \",\" \",\" \",\" \",\" \",\" \",\" \",\" \",\" \",\" \",\" \",\" \",\" \",\" \",\" \",\" \",\" \",\" \",\" \",\" \",\" \",\" \",\" \",\" \",\" \",\" \",\" \",\" \",\" \",\" \",\" \",\" \",\" \",\" \",\" \",\" \",\" \",\" \",\" \",\" \",\" \",\" \",\" \",\" \",\" \",\" \",\" \",\" \",\" \",\" \",\" \",\" \",\" \",\" \",\" \",\" \",\" \",\" \",\" \",\" \",\" \",\" \",\" \",\" \",\" \",\" \",\" \",\" \",\" \",\" \",\" \",\" \",\" \",\" \",\" \",\" \",\" \",\" \",\" \",\" \",\" \",\" \",\" \",\" \",\" \",\" \",\" \",\" \",\" \",\" \",\" \",\" \",\" \",\" \",\" \",\" \",\" \",\" \",\" \",\" \",\" \",\" \",\" \",\" \",\" \",\" \",\" \",\" \",\" \",\" \",\" \",\" \",\" \",\" \",\" \",\" \",\" \",\" \",\" \",\" \",\" \",\" \",\" \",\" \",\" \",\" \",\" \",\" \",\" \",\" \",\" \",\" \",\" \",\" \",\" \",\" \",\" \",\" \",\" \",\" \",\" \",\" \",\" \",\" \",\" \",\" \",\" \",\" \",\" \",\" \",\" \",\" \",\" \",\" \",\" \",\" \",\" \",\" \",\" \",\" \",\" \",\" \",\" \",\" \",\" \",\" \",\" \",\" \",\" \",\" \",\" \",\" \",\" \",\" \",\" \",\" \",\" \",\" \",\" \",\" \",\" \",\" \",\" \",\" \",\" \",\" \",\" \",\" \",\" \",\" \",\" \",\" \",\" \",\" \",\" \",\" \",\" \",\" \",\" \",\" \",\" \",\" \",\" \",\" \",\" \",\" \",\" \",\" \",\" \",\" \",\" \",\" \",\" \",\" \",\" \",\" \",\" \",\" \",\" \",\" \",\" \",\" \",\" \",\" \",\" \",\" \",\" \",\" \",\" \",\" \",\" \",\" \",\" \",\" \",\" \",\" \",\" \",\" \",\" \",\" \",\" \",\" \",\" \",\" \",\" \",\" \",\" \",\" \",\" \",\" \",\" \",\" \",\" \",\" \",\" \",\" \",\" \",\" \",\" \",\" \",\" \",\" \",\" \",\" \",\" \",\" \",\" \",\" \",\" \",\" \",\" \",\" \",\" \",\" \",\" \",\" \",\" \",\" \",\" \",\" \",\" \",\" \",\" \",\" \",\" \",\" \",\" \",\" \",\" \",\" \",\" \",\" \",\" \",\" \",\" \",\" \",\" \",\" \",\" \",\" \",\" \",\" \",\" \",\" \",\" \",\" \",\" \",\" \",\" \",\" \",\" \",\" \",\" \",\" \",\" \",\" \",\" \",\" \",\" \",\" \",\" \",\" \",\" \",\" \",\" \",\" \",\" \",\" \",\" \",\" \",\" \",\" \",\" \",\" \",\" \",\" \",\" \",\" \",\" \",\" \",\" \",\" \",\" \",\" \",\" \",\" \",\" \",\" \",\" \",\" \",\" \",\" \",\" \",\" \",\" \",\" \",\" \",\" \",\" \",\" \",\" \",\" \",\" \",\" \",\" \",\" \",\" \",\" \",\" \",\" \",\" \",\" \",\" \",\" \",\" \",\" \",\" \",\" \",\" \",\" \",\" \",\" \",\" \",\" \",\" \",\" \",\" \",\" \",\" \",\" \",\" \",\" \",\" \",\" \",\" \",\" \",\" \",\" \",\" \",\" \",\" \",\" \",\" \",\" \",\" \",\" \",\" \",\" \",\" \",\" \",\" \",\" \",\" \",\" \",\" \",\" \",\" \",\" \",\" \",\" \",\" \",\" \",\" \",\" \",\" \",\" \",\" \",\" \",\" \",\" \",\" \",\" \",\" \",\" \",\" \",\" \",\" \",\" \",\" \",\" \",\" \",\" \",\" \",\" \",\" \",\" \",\" \",\" \",\" \",\" \",\" \",\" \",\" \",\" \",\" \",\" \",\" \",\" \",\" \",\" \",\" \",\" \",\" \",\" \",\" \",\" \",\" \",\" \",\" \",\" \",\" \",\" \",\" \",\" \",\" \",\" \",\" \",\" \",\" \",\" \",\" \",\" \",\" \",\" \",\" \",\" \",\" \",\" \",\" \",\" \",\" \",\" \",\" \",\" \",\" \",\" \",\" \",\" \",\" \",\" \",\" \",\" \",\" \",\" \",\" \",\" \",\" \",\" \",\" \",\" \",\" \",\" \",\" \",\" \",\" \",\" \",\" \",\" \",\" \",\" \",\" \",\" \",\" \",\" \",\" \",\" \",\" \",\" \",\" \",\" \",\" \",\" \",\" \",\" \",\" \",\" \",\" \",\" \",\" \",\" \",\" \",\" \",\" \",\" \",\" \",\" \",\" \",\" \",\" \",\" \",\" \",\" \",\" \",\" \",\" \",\" \",\" \",\" \",\" \",\" \",\" \",\" \",\" \",\" \",\" \",\" \",\" \",\" \",\" \",\" \",\" \",\" \",\" \",\" \",\" \",\" \",\" \",\" \",\" \",\" \",\" \",\" \",\" \",\" \",\" \",\" \",\" \",\" \",\" \",\" \",\" \",\" \",\" \",\" \",\" \",\" \",\" \",\" \",\" \",\" \",\" \"],\"__label\":[\" \",\" \",\" \",\" \",\" \",\" \",\" \",\" \",\" \",\" \",\" \",\" \",\" \",\" \",\" \",\" \",\" \",\" \",\" \",\" \",\" \",\" \",\" \",\" \",\" \",\" \",\" \",\" \",\" \",\" \",\" \",\" \",\" \",\" \",\" \",\" \",\" \",\" \",\" \",\" \",\" \",\" \",\" \",\" \",\" \",\" \",\" \",\" \",\" \",\" \",\" \",\" \",\" \",\" \",\" \",\" \",\" \",\" \",\" \",\" \",\" \",\" \",\" \",\" \",\" \",\" \",\" \",\" \",\" \",\" \",\" \",\" \",\" \",\" \",\" \",\" \",\" \",\" \",\" \",\" \",\" \",\" \",\" \",\" \",\" \",\" \",\" \",\" \",\" \",\" \",\" \",\" \",\" \",\" \",\" \",\" \",\" \",\" \",\" \",\" \",\" \",\" \",\" \",\" \",\" \",\" \",\" \",\" \",\" \",\" \",\" \",\" \",\" \",\" \",\" \",\" \",\" \",\" \",\" \",\" \",\" \",\" \",\" \",\" \",\" \",\" \",\" \",\" \",\" \",\" \",\" \",\" \",\" \",\" \",\" \",\" \",\" \",\" \",\" \",\" \",\" \",\" \",\" \",\" \",\" \",\" \",\" \",\" \",\" \",\" \",\" \",\" \",\" \",\" \",\" \",\" \",\" \",\" \",\" \",\" \",\" \",\" \",\" \",\" \",\" \",\" \",\" \",\" \",\" \",\" \",\" \",\" \",\" \",\" \",\" \",\" \",\" \",\" \",\" \",\" \",\" \",\" \",\" \",\" \",\" \",\" \",\" \",\" \",\" \",\" \",\" \",\" \",\" \",\" \",\" \",\" \",\" \",\" \",\" \",\" \",\" \",\" \",\" \",\" \",\" \",\" \",\" \",\" \",\" \",\" \",\" \",\" \",\" \",\" \",\" \",\" \",\" \",\" \",\" \",\" \",\" \",\" \",\" \",\" \",\" \",\" \",\" \",\" \",\" \",\" \",\" \",\" \",\" \",\" \",\" \",\" \",\" \",\" \",\" \",\" \",\" \",\" \",\" \",\" \",\" \",\" \",\" \",\" \",\" \",\" \",\" \",\" \",\" \",\" \",\" \",\" \",\" \",\" \",\" \",\" \",\" \",\" \",\" \",\" \",\" \",\" \",\" \",\" \",\" \",\" \",\" \",\" \",\" \",\" \",\" \",\" \",\" \",\" \",\" \",\" \",\" \",\" \",\" \",\" \",\" \",\" \",\" \",\" \",\" \",\" \",\" \",\" \",\" \",\" \",\" \",\" \",\" \",\" \",\" \",\" \",\" \",\" \",\" \",\" \",\" \",\" \",\" \",\" \",\" \",\" \",\" \",\" \",\" \",\" \",\" \",\" \",\" \",\" \",\" \",\" \",\" \",\" \",\" \",\" \",\" \",\" \",\" \",\" \",\" \",\" \",\" \",\" \",\" \",\" \",\" \",\" \",\" \",\" \",\" \",\" \",\" \",\" \",\" \",\" \",\" \",\" \",\" \",\" \",\" \",\" \",\" \",\" \",\" \",\" \",\" \",\" \",\" \",\" \",\" \",\" \",\" \",\" \",\" \",\" \",\" \",\" \",\" \",\" \",\" \",\" \",\" \",\" \",\" \",\" \",\" \",\" \",\" \",\" \",\" \",\" \",\" \",\" \",\" \",\" \",\" \",\" \",\" \",\" \",\" \",\" \",\" \",\" \",\" \",\" \",\" \",\" \",\" \",\" \",\" \",\" \",\" \",\" \",\" \",\" \",\" \",\" \",\" \",\" \",\" \",\" \",\" \",\" \",\" \",\" \",\" \",\" \",\" \",\" \",\" \",\" \",\" \",\" \",\" \",\" \",\" \",\" \",\" \",\" \",\" \",\" \",\" \",\" \",\" \",\" \",\" \",\" \",\" \",\" \",\" \",\" \",\" \",\" \",\" \",\" \",\" \",\" \",\" \",\" \",\" \",\" \",\" \",\" \",\" \",\" \",\" \",\" \",\" \",\" \",\" \",\" \",\" \",\" \",\" \",\" \",\" \",\" \",\" \",\" \",\" \",\" \",\" \",\" \",\" \",\" \",\" \",\" \",\" \",\" \",\" \",\" \",\" \",\" \",\" \",\" \",\" \",\" \",\" \",\" \",\" \",\" \",\" \",\" \",\" \",\" \",\" \",\" \",\" \",\" \",\" \",\" \",\" \",\" \",\" \",\" \",\" \",\" \",\" \",\" \",\" \",\" \",\" \",\" \",\" \",\" \",\" \",\" \",\" \",\" \",\" \",\" \",\" \",\" \",\" \",\" \",\" \",\" \",\" \",\" \",\" \",\" \",\" \",\" \",\" \",\" \",\" \",\" \",\" \",\" \",\" \",\" \",\" \",\" \",\" \",\" \",\" \",\" \",\" \",\" \",\" \",\" \",\" \",\" \",\" \",\" \",\" \",\" \",\" \",\" \",\" \",\" \",\" \",\" \",\" \",\" \",\" \",\" \",\" \",\" \",\" \",\" \",\" \",\" \",\" \",\" \",\" \",\" \",\" \",\" \",\" \",\" \",\" \",\" \",\" \",\" \",\" \",\" \",\" \",\" \",\" \",\" \",\" \",\" \",\" \",\" \",\" \",\" \",\" \",\" \",\" \",\" \",\" \",\" \",\" \",\" \",\" \",\" \",\" \",\" \",\" \",\" \",\" \",\" \",\" \",\" \",\" \",\" \",\" \",\" \",\" \",\" \",\" \",\" \",\" \",\" \",\" \",\" \",\" \",\" \",\" \",\" \",\" \",\" \",\" \",\" \",\" \",\" \",\" \",\" \",\" \",\" \",\" \",\" \",\" \",\" \",\" \",\" \",\" \",\" \",\" \",\" \",\" \",\" \",\" \",\" \",\" \",\" \",\" \",\" \",\" \",\" \",\" \",\" \",\" \",\" \",\" \",\" \",\" \",\" \",\" \",\" \",\" \",\" \",\" \",\" \",\" \",\" \",\" \",\" \",\" \",\" \",\" \",\" \",\" \",\" \",\" \",\" \",\" \",\" \",\" \",\" \",\" \",\" \",\" \",\" \",\" \",\" \",\" \",\" \",\" \",\" \",\" \",\" \",\" \",\" \",\" \",\" \",\" \",\" \",\" \",\" \",\" \",\" \",\" \",\" \",\" \",\" \",\" \",\" \",\" \",\" \",\" \",\" \",\" \",\" \",\" \",\" \",\" \",\" \",\" \",\" \",\" \",\" \",\" \",\" \",\" \",\" \",\" \",\" \",\" \",\" \",\" \",\" \",\" \",\" \",\" \",\" \",\" \",\" \",\" \",\" \",\" \",\" \",\" \",\" \",\" \",\" \",\" \",\" \",\" \",\" \",\" \",\" \",\" \",\" \",\" \",\" \",\" \",\" \",\" \",\" \",\" \",\" \",\" \",\" \",\" \",\" \",\" \",\" \",\" \",\" \",\" \",\" \",\" \",\" \",\" \",\" \",\" \",\" \",\" \",\" \",\" \",\" \",\" \",\" \",\" \",\" \",\" \",\" \",\" \",\" \",\" \",\" \",\" \",\" \",\" \",\" \",\" \",\" \",\" \",\" \",\" \",\" \",\" \",\" \",\" \",\" \",\" \",\" \",\" \",\" \",\" \",\" \",\" \",\" \",\" \",\" \",\" \",\" \",\" \",\" \",\" \",\" \",\" \",\" \",\" \",\" \",\" \",\" \",\" \",\" \",\" \",\" \",\" \",\" \",\" \",\" \",\" \",\" \",\" \",\" \",\" \",\" \",\" \",\" \",\" \",\" \",\" \",\" \",\" \",\" \",\" \",\" \",\" \",\" \",\" \",\" \",\" \",\" \",\" \",\" \",\" \",\" \",\" \",\" \",\" \",\" \",\" \",\" \",\" \",\" \",\" \",\" \",\" \",\" \",\" \",\" \",\" \",\" \",\" \",\" \",\" \",\" \",\" \",\" \",\" \",\" \",\" \",\" \",\" \",\" \",\" \",\" \",\" \",\" \",\" \",\" \",\" \",\" \",\" \",\" \",\" \",\" \",\" \",\" \",\" \",\" \",\" \",\" \",\" \",\" \",\" \",\" \",\" \",\" \",\" \",\" \",\" \",\" \",\" \",\" \",\" \",\" \",\" \",\" \",\" \",\" \",\" \",\" \",\" \",\" \",\" \",\" \",\" \",\" \",\" \",\" \",\" \",\" \",\" \",\" \",\" \",\" \",\" \",\" \",\" \",\" \",\" \",\" \",\" \",\" \",\" \",\" \",\" \",\" \",\" \",\" \",\" \",\" \",\" \",\" \",\" \",\" \",\" \",\" \",\" \",\" \",\" \",\" \",\" \",\" \",\" \",\" \",\" \",\" \",\" \",\" \",\" \",\" \",\" \",\" \",\" \",\" \",\" \",\" \",\" \",\" \",\" \",\" \",\" \",\" \"],\"index\":[0,1,2,3,4,5,6,7,8,9,10,11,12,13,14,15,16,17,18,19,20,21,22,23,24,25,26,27,28,29,30,31,32,33,34,35,36,37,38,39,40,41,42,43,44,45,46,47,48,49,50,51,52,53,54,55,56,57,58,59,60,61,62,63,64,65,66,67,68,69,70,71,72,73,74,75,76,77,78,79,80,81,82,83,84,85,86,87,88,89,90,91,92,93,94,95,96,97,98,99,100,101,102,103,104,105,106,107,108,109,110,111,112,113,114,115,116,117,118,119,120,121,122,123,124,125,126,127,128,129,130,131,132,133,134,135,136,137,138,139,140,141,142,143,144,145,146,147,148,149,150,151,152,153,154,155,156,157,158,159,160,161,162,163,164,165,166,167,168,169,170,171,172,173,174,175,176,177,178,179,180,181,182,183,184,185,186,187,188,189,190,191,192,193,194,195,196,197,198,199,200,201,202,203,204,205,206,207,208,209,210,211,212,213,214,215,216,217,218,219,220,221,222,223,224,225,226,227,228,229,230,231,232,233,234,235,236,237,238,239,240,241,242,243,244,245,246,247,248,249,250,251,252,253,254,255,256,257,258,259,260,261,262,263,264,265,266,267,268,269,270,271,272,273,274,275,276,277,278,279,280,281,282,283,284,285,286,287,288,289,290,291,292,293,294,295,296,297,298,299,300,301,302,303,304,305,306,307,308,309,310,311,312,313,314,315,316,317,318,319,320,321,322,323,324,325,326,327,328,329,330,331,332,333,334,335,336,337,338,339,340,341,342,343,344,345,346,347,348,349,350,351,352,353,354,355,356,357,358,359,360,361,362,363,364,365,366,367,368,369,370,371,372,373,374,375,376,377,378,379,380,381,382,383,384,385,386,387,388,389,390,391,392,393,394,395,396,397,398,399,400,401,402,403,404,405,406,407,408,409,410,411,412,413,414,415,416,417,418,419,420,421,422,423,424,425,426,427,428,429,430,431,432,433,434,435,436,437,438,439,440,441,442,443,444,445,446,447,448,449,450,451,452,453,454,455,456,457,458,459,460,461,462,463,464,465,466,467,468,469,470,471,472,473,474,475,476,477,478,479,480,481,482,483,484,485,486,487,488,489,490,491,492,493,494,495,496,497,498,499,500,501,502,503,504,505,506,507,508,509,510,511,512,513,514,515,516,517,518,519,520,521,522,523,524,525,526,527,528,529,530,531,532,533,534,535,536,537,538,539,540,541,542,543,544,545,546,547,548,549,550,551,552,553,554,555,556,557,558,559,560,561,562,563,564,565,566,567,568,569,570,571,572,573,574,575,576,577,578,579,580,581,582,583,584,585,586,587,588,589,590,591,592,593,594,595,596,597,598,599,600,601,602,603,604,605,606,607,608,609,610,611,612,613,614,615,616,617,618,619,620,621,622,623,624,625,626,627,628,629,630,631,632,633,634,635,636,637,638,639,640,641,642,643,644,645,646,647,648,649,650,651,652,653,654,655,656,657,658,659,660,661,662,663,664,665,666,667,668,669,670,671,672,673,674,675,676,677,678,679,680,681,682,683,684,685,686,687,688,689,690,691,692,693,694,695,696,697,698,699,700,701,702,703,704,705,706,707,708,709,710,711,712,713,714,715,716,717,718,719,720,721,722,723,724,725,726,727,728,729,730,731,732,733,734,735,736,737,738,739,740,741,742,743,744,745,746,747,748,749,750,751,752,753,754,755,756,757,758,759,760,761,762,763,764,765,766,767,768,769,770,771,772,773,774,775,776,777,778,779,780,781,782,783,784,785,786,787,788,789,790,791,792,793,794,795,796,797,798,799,800,801,802,803,804,805,806,807,808,809,810,811,812,813,814,815,816,817,818,819,820,821,822,823,824,825,826,827,828,829,830,831,832,833,834,835,836,837,838,839,840,841,842,843,844,845,846,847,848,849,850,851,852,853,854,855,856,857,858,859,860,861,862,863,864,865,866,867,868,869,870,871,872,873,874,875,876,877,878,879,880,881,882,883,884,885,886,887,888,889,890,891,892,893,894,895,896,897,898,899,900,901,902,903,904,905,906,907,908,909,910,911,912,913,914,915,916,917,918,919,920,921,922,923,924,925,926,927,928,929,930,931,932,933,934,935,936,937,938,939,940,941,942,943,944,945,946,947,948,949,950,951,952,953,954,955,956,957,958,959,960,961,962,963,964,965,966,967,968,969,970,971,972,973,974,975,976,977,978,979,980,981,982,983,984,985,986,987,988,989,990,991,992,993,994,995,996,997,998,999],\"x\":{\"__ndarray__\":\"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\",\"dtype\":\"float64\",\"order\":\"little\",\"shape\":[1000]}},\"selected\":{\"id\":\"1053\"},\"selection_policy\":{\"id\":\"1054\"}},\"id\":\"1034\",\"type\":\"ColumnDataSource\"},{\"attributes\":{\"overlay\":{\"id\":\"1026\"}},\"id\":\"1022\",\"type\":\"BoxZoomTool\"},{\"attributes\":{\"data\":{\"x\":[0,1],\"y\":[0,1]},\"selected\":{\"id\":\"1055\"},\"selection_policy\":{\"id\":\"1056\"}},\"id\":\"1040\",\"type\":\"ColumnDataSource\"},{\"attributes\":{},\"id\":\"1052\",\"type\":\"AllLabels\"},{\"attributes\":{},\"id\":\"1025\",\"type\":\"HelpTool\"},{\"attributes\":{},\"id\":\"1050\",\"type\":\"BasicTickFormatter\"},{\"attributes\":{},\"id\":\"1023\",\"type\":\"SaveTool\"},{\"attributes\":{},\"id\":\"1024\",\"type\":\"ResetTool\"},{\"attributes\":{},\"id\":\"1010\",\"type\":\"LinearScale\"},{\"attributes\":{\"data_source\":{\"id\":\"1034\"},\"glyph\":{\"id\":\"1036\"},\"hover_glyph\":null,\"muted_glyph\":null,\"nonselection_glyph\":{\"id\":\"1037\"},\"view\":{\"id\":\"1039\"}},\"id\":\"1038\",\"type\":\"GlyphRenderer\"},{\"attributes\":{\"line_color\":\"orange\",\"line_width\":2,\"x\":{\"field\":\"x\"},\"y\":{\"field\":\"y\"}},\"id\":\"1041\",\"type\":\"Line\"},{\"attributes\":{},\"id\":\"1055\",\"type\":\"Selection\"},{\"attributes\":{\"axis\":{\"id\":\"1012\"},\"ticker\":null},\"id\":\"1015\",\"type\":\"Grid\"},{\"attributes\":{\"axis_label\":\"ECDF\",\"formatter\":{\"id\":\"1047\"},\"major_label_policy\":{\"id\":\"1049\"},\"ticker\":{\"id\":\"1017\"}},\"id\":\"1016\",\"type\":\"LinearAxis\"},{\"attributes\":{\"source\":{\"id\":\"1040\"}},\"id\":\"1044\",\"type\":\"CDSView\"},{\"attributes\":{},\"id\":\"1056\",\"type\":\"UnionRenderers\"},{\"attributes\":{\"axis\":{\"id\":\"1016\"},\"dimension\":1,\"ticker\":null},\"id\":\"1019\",\"type\":\"Grid\"},{\"attributes\":{},\"id\":\"1021\",\"type\":\"WheelZoomTool\"},{\"attributes\":{\"fill_color\":{\"value\":\"#1f77b3\"},\"line_color\":{\"value\":\"#1f77b3\"},\"x\":{\"field\":\"x\"},\"y\":{\"field\":\"__ECDF\"}},\"id\":\"1036\",\"type\":\"Circle\"},{\"attributes\":{},\"id\":\"1047\",\"type\":\"BasicTickFormatter\"},{\"attributes\":{},\"id\":\"1046\",\"type\":\"Title\"}],\"root_ids\":[\"1003\"]},\"title\":\"Bokeh Application\",\"version\":\"2.3.2\"}};\n",
       "  var render_items = [{\"docid\":\"f879cef6-7370-4c43-8f94-97a4c9958ae5\",\"root_ids\":[\"1003\"],\"roots\":{\"1003\":\"a4640077-3b7c-458f-9d64-79c1de0554c4\"}}];\n",
       "  root.Bokeh.embed.embed_items_notebook(docs_json, render_items);\n",
       "\n",
       "  }\n",
       "  if (root.Bokeh !== undefined) {\n",
       "    embed_document(root);\n",
       "  } else {\n",
       "    var attempts = 0;\n",
       "    var timer = setInterval(function(root) {\n",
       "      if (root.Bokeh !== undefined) {\n",
       "        clearInterval(timer);\n",
       "        embed_document(root);\n",
       "      } else {\n",
       "        attempts++;\n",
       "        if (attempts > 100) {\n",
       "          clearInterval(timer);\n",
       "          console.log(\"Bokeh: ERROR: Unable to run BokehJS code because BokehJS library is missing\");\n",
       "        }\n",
       "      }\n",
       "    }, 10, root)\n",
       "  }\n",
       "})(window);"
      ],
      "application/vnd.bokehjs_exec.v0+json": ""
     },
     "metadata": {
      "application/vnd.bokehjs_exec.v0+json": {
       "id": "1003"
      }
     },
     "output_type": "display_data"
    }
   ],
   "source": [
    "# Generate random numbers\n",
    "x = np.random.uniform(low=0, high=1, size=1000)\n",
    "\n",
    "# Plot the ECDF of randomly generated numbers\n",
    "p = iqplot.ecdf(x)\n",
    "\n",
    "# Overlay the theoretical CDF\n",
    "p.line(\n",
    "    x=[0, 1],\n",
    "    y=[0, 1],\n",
    "    line_width=2,\n",
    "    line_color=\"orange\",\n",
    ")\n",
    "\n",
    "bokeh.io.show(p)"
   ]
  },
  {
   "cell_type": "markdown",
   "metadata": {},
   "source": [
    "So, it looks like our random number generator is doing a good job.\n",
    "\n",
    "Generating random numbers on the uniform interval is one of the most commonly used RNG techniques. In fact, many of the other contexts of RNG are derived from draws from the uniform distribution. For example, you can simulate flipping a biased (unfair) coin."
   ]
  },
  {
   "cell_type": "code",
   "execution_count": 4,
   "metadata": {},
   "outputs": [
    {
     "name": "stdout",
     "output_type": "stream",
     "text": [
      "[ True  True  True  True  True  True  True  True False  True  True False\n",
      "  True False False  True False  True  True False]\n",
      "\n",
      "There were 14 heads.\n"
     ]
    }
   ],
   "source": [
    "# Generate 20 random numbers on uniform interval\n",
    "x = np.random.uniform(low=0, high=1, size=20)\n",
    "\n",
    "# Make the coin flips (< 0.7 means we have a 70% chance of heads)\n",
    "heads = x < 0.7\n",
    "\n",
    "# Show which were heads, and count the number of heads\n",
    "print(heads)\n",
    "print(\"\\nThere were\", np.sum(heads), \"heads.\")"
   ]
  },
  {
   "cell_type": "markdown",
   "metadata": {},
   "source": [
    "## Choice of generator\n",
    "\n",
    "As of version 1.17.3 of Numpy, the algorithm under the hood of calls to functions like `np.random.uniform()` is the [Mersenne Twister Algorithm](https://en.wikipedia.org/wiki/Mersenne_Twister) for generating random numbers. It is a very widely used and reliable method for generating random numbers. However, starting with version 1.17.4, the `numpy.random` module offers random number generators with better statistical performance, including the [PCG64 generator](http://www.pcg-random.org). Going forward, the preferred approach to doing random number generation is to first instantiate a generator of your choice, and then use its methods to generate numbers out of probability distributions.\n",
    "\n",
    "Let's set up a PCG64 generator, which is Numpy's default."
   ]
  },
  {
   "cell_type": "code",
   "execution_count": 5,
   "metadata": {},
   "outputs": [],
   "source": [
    "rg = np.random.default_rng()"
   ]
  },
  {
   "cell_type": "markdown",
   "metadata": {},
   "source": [
    "Now that we have the generator, we can use it to draw numbers out of distributions. The syntax is the same as before, except `rg` replaces `np.random`."
   ]
  },
  {
   "cell_type": "code",
   "execution_count": 6,
   "metadata": {},
   "outputs": [
    {
     "data": {
      "text/plain": [
       "array([0.02109511, 0.56999034, 0.37505666, 0.28999458, 0.47433458,\n",
       "       0.04385365, 0.84504954, 0.99833778, 0.05834015, 0.55449535,\n",
       "       0.64296195, 0.88379885, 0.03815613, 0.63397964, 0.75015992,\n",
       "       0.89877959, 0.10925181, 0.3447885 , 0.24506525, 0.54787653])"
      ]
     },
     "execution_count": 6,
     "metadata": {},
     "output_type": "execute_result"
    }
   ],
   "source": [
    "rg.uniform(low=0, high=1, size=20)"
   ]
  },
  {
   "cell_type": "markdown",
   "metadata": {},
   "source": [
    "## Seeding random number generators\n",
    "\n",
    "Now, just to demonstrate that random number generation is deterministic, we will explicitly **seed** the random number generator (which is usually seeded with a number representing the date/time to avoid repeats) to show that we get the same random numbers."
   ]
  },
  {
   "cell_type": "code",
   "execution_count": 7,
   "metadata": {},
   "outputs": [
    {
     "data": {
      "text/plain": [
       "array([0.18866535, 0.04418857, 0.02961285, 0.22083971, 0.43341773,\n",
       "       0.13166813, 0.42112164, 0.43507845, 0.61380912, 0.30627603])"
      ]
     },
     "execution_count": 7,
     "metadata": {},
     "output_type": "execute_result"
    }
   ],
   "source": [
    "# Instantiate generator with a seed\n",
    "rg = np.random.default_rng(seed=3252)\n",
    "\n",
    "# Generate random numbers\n",
    "rg.uniform(size=10)"
   ]
  },
  {
   "cell_type": "code",
   "execution_count": 8,
   "metadata": {},
   "outputs": [
    {
     "data": {
      "text/plain": [
       "array([0.18866535, 0.04418857, 0.02961285, 0.22083971, 0.43341773,\n",
       "       0.13166813, 0.42112164, 0.43507845, 0.61380912, 0.30627603])"
      ]
     },
     "execution_count": 8,
     "metadata": {},
     "output_type": "execute_result"
    }
   ],
   "source": [
    "# Re-seed the RNG\n",
    "rg = np.random.default_rng(seed=3252)\n",
    "\n",
    "# Generate random numbers\n",
    "rg.uniform(size=10)"
   ]
  },
  {
   "cell_type": "markdown",
   "metadata": {},
   "source": [
    "The random number sequence is exactly the same. If we choose a different seed, we get totally different random numbers."
   ]
  },
  {
   "cell_type": "code",
   "execution_count": 9,
   "metadata": {},
   "outputs": [
    {
     "data": {
      "text/plain": [
       "array([0.31390226, 0.73012457, 0.05800998, 0.01557021, 0.29825701,\n",
       "       0.10106784, 0.06329107, 0.58614237, 0.52023168, 0.52779988])"
      ]
     },
     "execution_count": 9,
     "metadata": {},
     "output_type": "execute_result"
    }
   ],
   "source": [
    "# Fit one more fan in the 3252\n",
    "rg = np.random.default_rng(seed=3253)\n",
    "rg.uniform(size=10)"
   ]
  },
  {
   "cell_type": "markdown",
   "metadata": {},
   "source": [
    "If you are writing tests, it is often useful to seed the random number generator to get reproducible results."
   ]
  },
  {
   "cell_type": "markdown",
   "metadata": {},
   "source": [
    "## Drawing random numbers out of other distributions\n",
    "\n",
    "We can also draw random numbers from other probability distributions. For example, say we wanted to draw random samples from a Normal distribution with mean μ and standard deviation σ. (We already saw this example when we were looking at histograms, but we repeat it here.)"
   ]
  },
  {
   "cell_type": "code",
   "execution_count": 10,
   "metadata": {},
   "outputs": [
    {
     "data": {
      "text/html": [
       "\n",
       "\n",
       "\n",
       "\n",
       "\n",
       "\n",
       "  <div class=\"bk-root\" id=\"15874cb1-2ec2-406b-a143-8f63a14b2476\" data-root-id=\"1124\"></div>\n"
      ]
     },
     "metadata": {},
     "output_type": "display_data"
    },
    {
     "data": {
      "application/javascript": [
       "(function(root) {\n",
       "  function embed_document(root) {\n",
       "    \n",
       "  var docs_json = {\"2551c6ef-0bc3-4438-8525-8ead5d06d18f\":{\"defs\":[],\"roots\":{\"references\":[{\"attributes\":{\"below\":[{\"id\":\"1132\"}],\"center\":[{\"id\":\"1135\"},{\"id\":\"1139\"}],\"frame_height\":275,\"frame_width\":375,\"left\":[{\"id\":\"1136\"}],\"renderers\":[{\"id\":\"1157\"},{\"id\":\"1162\"}],\"title\":{\"id\":\"1178\"},\"toolbar\":{\"id\":\"1147\"},\"toolbar_location\":\"above\",\"x_range\":{\"id\":\"1125\"},\"x_scale\":{\"id\":\"1128\"},\"y_range\":{\"id\":\"1123\"},\"y_scale\":{\"id\":\"1130\"}},\"id\":\"1124\",\"subtype\":\"Figure\",\"type\":\"Plot\"},{\"attributes\":{},\"id\":\"1179\",\"type\":\"BasicTickFormatter\"},{\"attributes\":{},\"id\":\"1145\",\"type\":\"HelpTool\"},{\"attributes\":{\"axis\":{\"id\":\"1132\"},\"ticker\":null},\"id\":\"1135\",\"type\":\"Grid\"},{\"attributes\":{\"source\":{\"id\":\"1159\"}},\"id\":\"1163\",\"type\":\"CDSView\"},{\"attributes\":{\"data_source\":{\"id\":\"1154\"},\"glyph\":{\"id\":\"1155\"},\"hover_glyph\":null,\"muted_glyph\":null,\"nonselection_glyph\":{\"id\":\"1156\"},\"view\":{\"id\":\"1158\"}},\"id\":\"1157\",\"type\":\"GlyphRenderer\"},{\"attributes\":{\"fill_alpha\":0.3,\"fill_color\":\"#1f77b3\",\"line_alpha\":0,\"line_color\":\"#1f77b3\",\"x\":{\"field\":\"x\"},\"y\":{\"field\":\"y\"}},\"id\":\"1160\",\"type\":\"Patch\"},{\"attributes\":{},\"id\":\"1182\",\"type\":\"BasicTickFormatter\"},{\"attributes\":{},\"id\":\"1187\",\"type\":\"Selection\"},{\"attributes\":{\"data\":{\"x\":{\"__ndarray__\":\"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\",\"dtype\":\"float64\",\"order\":\"little\",\"shape\":[296]},\"y\":{\"__ndarray__\":\"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\",\"dtype\":\"float64\",\"order\":\"little\",\"shape\":[296]}},\"selected\":{\"id\":\"1185\"},\"selection_policy\":{\"id\":\"1186\"}},\"id\":\"1154\",\"type\":\"ColumnDataSource\"},{\"attributes\":{\"start\":0},\"id\":\"1123\",\"type\":\"DataRange1d\"},{\"attributes\":{\"line_color\":\"#1f77b3\",\"line_width\":2,\"x\":{\"field\":\"x\"},\"y\":{\"field\":\"y\"}},\"id\":\"1155\",\"type\":\"Line\"},{\"attributes\":{},\"id\":\"1188\",\"type\":\"UnionRenderers\"},{\"attributes\":{},\"id\":\"1130\",\"type\":\"LinearScale\"},{\"attributes\":{},\"id\":\"1181\",\"type\":\"AllLabels\"},{\"attributes\":{},\"id\":\"1125\",\"type\":\"DataRange1d\"},{\"attributes\":{},\"id\":\"1128\",\"type\":\"LinearScale\"},{\"attributes\":{},\"id\":\"1184\",\"type\":\"AllLabels\"},{\"attributes\":{\"bottom_units\":\"screen\",\"fill_alpha\":0.5,\"fill_color\":\"lightgrey\",\"left_units\":\"screen\",\"level\":\"overlay\",\"line_alpha\":1.0,\"line_color\":\"black\",\"line_dash\":[4,4],\"line_width\":2,\"right_units\":\"screen\",\"syncable\":false,\"top_units\":\"screen\"},\"id\":\"1146\",\"type\":\"BoxAnnotation\"},{\"attributes\":{},\"id\":\"1137\",\"type\":\"BasicTicker\"},{\"attributes\":{\"data\":{\"x\":{\"__ndarray__\":\"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\",\"dtype\":\"float64\",\"order\":\"little\",\"shape\":[298]},\"y\":{\"__ndarray__\":\"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\",\"dtype\":\"float64\",\"order\":\"little\",\"shape\":[298]}},\"selected\":{\"id\":\"1187\"},\"selection_policy\":{\"id\":\"1188\"}},\"id\":\"1159\",\"type\":\"ColumnDataSource\"},{\"attributes\":{},\"id\":\"1133\",\"type\":\"BasicTicker\"},{\"attributes\":{\"active_multi\":null,\"tools\":[{\"id\":\"1140\"},{\"id\":\"1141\"},{\"id\":\"1142\"},{\"id\":\"1143\"},{\"id\":\"1144\"},{\"id\":\"1145\"}]},\"id\":\"1147\",\"type\":\"Toolbar\"},{\"attributes\":{\"axis_label\":\"approximate PDF\",\"formatter\":{\"id\":\"1179\"},\"major_label_policy\":{\"id\":\"1181\"},\"ticker\":{\"id\":\"1137\"}},\"id\":\"1136\",\"type\":\"LinearAxis\"},{\"attributes\":{\"axis\":{\"id\":\"1136\"},\"dimension\":1,\"ticker\":null},\"id\":\"1139\",\"type\":\"Grid\"},{\"attributes\":{\"fill_alpha\":0.1,\"fill_color\":\"#1f77b3\",\"line_alpha\":0.1,\"line_color\":\"#1f77b3\",\"x\":{\"field\":\"x\"},\"y\":{\"field\":\"y\"}},\"id\":\"1161\",\"type\":\"Patch\"},{\"attributes\":{},\"id\":\"1186\",\"type\":\"UnionRenderers\"},{\"attributes\":{},\"id\":\"1140\",\"type\":\"PanTool\"},{\"attributes\":{},\"id\":\"1143\",\"type\":\"SaveTool\"},{\"attributes\":{\"data_source\":{\"id\":\"1159\"},\"glyph\":{\"id\":\"1160\"},\"hover_glyph\":null,\"muted_glyph\":null,\"nonselection_glyph\":{\"id\":\"1161\"},\"view\":{\"id\":\"1163\"}},\"id\":\"1162\",\"type\":\"GlyphRenderer\"},{\"attributes\":{\"source\":{\"id\":\"1154\"}},\"id\":\"1158\",\"type\":\"CDSView\"},{\"attributes\":{\"overlay\":{\"id\":\"1146\"}},\"id\":\"1142\",\"type\":\"BoxZoomTool\"},{\"attributes\":{},\"id\":\"1178\",\"type\":\"Title\"},{\"attributes\":{},\"id\":\"1144\",\"type\":\"ResetTool\"},{\"attributes\":{},\"id\":\"1185\",\"type\":\"Selection\"},{\"attributes\":{\"axis_label\":\"x\",\"formatter\":{\"id\":\"1182\"},\"major_label_policy\":{\"id\":\"1184\"},\"ticker\":{\"id\":\"1133\"}},\"id\":\"1132\",\"type\":\"LinearAxis\"},{\"attributes\":{\"line_alpha\":0.1,\"line_color\":\"#1f77b3\",\"line_width\":2,\"x\":{\"field\":\"x\"},\"y\":{\"field\":\"y\"}},\"id\":\"1156\",\"type\":\"Line\"},{\"attributes\":{},\"id\":\"1141\",\"type\":\"WheelZoomTool\"}],\"root_ids\":[\"1124\"]},\"title\":\"Bokeh Application\",\"version\":\"2.3.2\"}};\n",
       "  var render_items = [{\"docid\":\"2551c6ef-0bc3-4438-8525-8ead5d06d18f\",\"root_ids\":[\"1124\"],\"roots\":{\"1124\":\"15874cb1-2ec2-406b-a143-8f63a14b2476\"}}];\n",
       "  root.Bokeh.embed.embed_items_notebook(docs_json, render_items);\n",
       "\n",
       "  }\n",
       "  if (root.Bokeh !== undefined) {\n",
       "    embed_document(root);\n",
       "  } else {\n",
       "    var attempts = 0;\n",
       "    var timer = setInterval(function(root) {\n",
       "      if (root.Bokeh !== undefined) {\n",
       "        clearInterval(timer);\n",
       "        embed_document(root);\n",
       "      } else {\n",
       "        attempts++;\n",
       "        if (attempts > 100) {\n",
       "          clearInterval(timer);\n",
       "          console.log(\"Bokeh: ERROR: Unable to run BokehJS code because BokehJS library is missing\");\n",
       "        }\n",
       "      }\n",
       "    }, 10, root)\n",
       "  }\n",
       "})(window);"
      ],
      "application/vnd.bokehjs_exec.v0+json": ""
     },
     "metadata": {
      "application/vnd.bokehjs_exec.v0+json": {
       "id": "1124"
      }
     },
     "output_type": "display_data"
    }
   ],
   "source": [
    "# Set parameters\n",
    "mu = 10\n",
    "sigma = 1\n",
    "\n",
    "# Draw 100000 random samples\n",
    "x = rg.normal(mu, sigma, size=100000)\n",
    "\n",
    "# Plot the histogram\n",
    "p = iqplot.histogram(\n",
    "    x,\n",
    "    density=True,\n",
    "    rug=False,\n",
    "    y_axis_label=\"approximate PDF\",\n",
    ")\n",
    "\n",
    "bokeh.io.show(p)"
   ]
  },
  {
   "cell_type": "markdown",
   "metadata": {},
   "source": [
    "It looks Normal, but, again, comparing the resulting ECDF is a better way to look at this. We'll check out the ECDF with 1000 samples so as not to choke the browser. I will also make use of the theoretical CDF for the Normal distribution available from the `scipy.stats` module."
   ]
  },
  {
   "cell_type": "code",
   "execution_count": 11,
   "metadata": {},
   "outputs": [
    {
     "data": {
      "text/html": [
       "\n",
       "\n",
       "\n",
       "\n",
       "\n",
       "\n",
       "  <div class=\"bk-root\" id=\"a73e3d9e-84e6-4d4b-886e-5bd6ccd8b8d8\" data-root-id=\"1255\"></div>\n"
      ]
     },
     "metadata": {},
     "output_type": "display_data"
    },
    {
     "data": {
      "application/javascript": [
       "(function(root) {\n",
       "  function embed_document(root) {\n",
       "    \n",
       "  var docs_json = {\"a2dfc70e-bffc-4cb5-bd0f-1acc0f1ac621\":{\"defs\":[],\"roots\":{\"references\":[{\"attributes\":{\"below\":[{\"id\":\"1264\"}],\"center\":[{\"id\":\"1267\"},{\"id\":\"1271\"}],\"frame_height\":275,\"frame_width\":375,\"left\":[{\"id\":\"1268\"}],\"renderers\":[{\"id\":\"1290\"},{\"id\":\"1295\"}],\"title\":{\"id\":\"1324\"},\"toolbar\":{\"id\":\"1279\"},\"toolbar_location\":\"above\",\"x_range\":{\"id\":\"1256\"},\"x_scale\":{\"id\":\"1260\"},\"y_range\":{\"id\":\"1258\"},\"y_scale\":{\"id\":\"1262\"}},\"id\":\"1255\",\"subtype\":\"Figure\",\"type\":\"Plot\"},{\"attributes\":{\"fill_color\":{\"value\":\"#1f77b3\"},\"line_color\":{\"value\":\"#1f77b3\"},\"x\":{\"field\":\"x\"},\"y\":{\"field\":\"__ECDF\"}},\"id\":\"1288\",\"type\":\"Circle\"},{\"attributes\":{\"bottom_units\":\"screen\",\"fill_alpha\":0.5,\"fill_color\":\"lightgrey\",\"left_units\":\"screen\",\"level\":\"overlay\",\"line_alpha\":1.0,\"line_color\":\"black\",\"line_dash\":[4,4],\"line_width\":2,\"right_units\":\"screen\",\"syncable\":false,\"top_units\":\"screen\"},\"id\":\"1278\",\"type\":\"BoxAnnotation\"},{\"attributes\":{},\"id\":\"1330\",\"type\":\"AllLabels\"},{\"attributes\":{\"source\":{\"id\":\"1292\"}},\"id\":\"1296\",\"type\":\"CDSView\"},{\"attributes\":{\"source\":{\"id\":\"1286\"}},\"id\":\"1291\",\"type\":\"CDSView\"},{\"attributes\":{\"overlay\":{\"id\":\"1278\"}},\"id\":\"1274\",\"type\":\"BoxZoomTool\"},{\"attributes\":{},\"id\":\"1260\",\"type\":\"LinearScale\"},{\"attributes\":{},\"id\":\"1333\",\"type\":\"Selection\"},{\"attributes\":{},\"id\":\"1276\",\"type\":\"ResetTool\"},{\"attributes\":{},\"id\":\"1334\",\"type\":\"UnionRenderers\"},{\"attributes\":{},\"id\":\"1269\",\"type\":\"BasicTicker\"},{\"attributes\":{},\"id\":\"1277\",\"type\":\"HelpTool\"},{\"attributes\":{},\"id\":\"1258\",\"type\":\"DataRange1d\"},{\"attributes\":{},\"id\":\"1275\",\"type\":\"SaveTool\"},{\"attributes\":{},\"id\":\"1328\",\"type\":\"BasicTickFormatter\"},{\"attributes\":{\"data_source\":{\"id\":\"1286\"},\"glyph\":{\"id\":\"1288\"},\"hover_glyph\":null,\"muted_glyph\":null,\"nonselection_glyph\":{\"id\":\"1289\"},\"view\":{\"id\":\"1291\"}},\"id\":\"1290\",\"type\":\"GlyphRenderer\"},{\"attributes\":{\"axis\":{\"id\":\"1264\"},\"ticker\":null},\"id\":\"1267\",\"type\":\"Grid\"},{\"attributes\":{},\"id\":\"1325\",\"type\":\"BasicTickFormatter\"},{\"attributes\":{},\"id\":\"1256\",\"type\":\"DataRange1d\"},{\"attributes\":{\"axis_label\":\"x\",\"formatter\":{\"id\":\"1328\"},\"major_label_policy\":{\"id\":\"1330\"},\"ticker\":{\"id\":\"1265\"}},\"id\":\"1264\",\"type\":\"LinearAxis\"},{\"attributes\":{},\"id\":\"1272\",\"type\":\"PanTool\"},{\"attributes\":{},\"id\":\"1262\",\"type\":\"LinearScale\"},{\"attributes\":{\"line_alpha\":0.1,\"line_color\":\"orange\",\"line_width\":2,\"x\":{\"field\":\"x\"},\"y\":{\"field\":\"y\"}},\"id\":\"1294\",\"type\":\"Line\"},{\"attributes\":{\"axis_label\":\"ECDF\",\"formatter\":{\"id\":\"1325\"},\"major_label_policy\":{\"id\":\"1327\"},\"ticker\":{\"id\":\"1269\"}},\"id\":\"1268\",\"type\":\"LinearAxis\"},{\"attributes\":{},\"id\":\"1324\",\"type\":\"Title\"},{\"attributes\":{},\"id\":\"1331\",\"type\":\"Selection\"},{\"attributes\":{},\"id\":\"1327\",\"type\":\"AllLabels\"},{\"attributes\":{\"data\":{\"x\":{\"__ndarray__\":\"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\",\"dtype\":\"float64\",\"order\":\"little\",\"shape\":[400]},\"y\":{\"__ndarray__\":\"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\",\"dtype\":\"float64\",\"order\":\"little\",\"shape\":[400]}},\"selected\":{\"id\":\"1333\"},\"selection_policy\":{\"id\":\"1334\"}},\"id\":\"1292\",\"type\":\"ColumnDataSource\"},{\"attributes\":{},\"id\":\"1265\",\"type\":\"BasicTicker\"},{\"attributes\":{},\"id\":\"1332\",\"type\":\"UnionRenderers\"},{\"attributes\":{\"fill_alpha\":{\"value\":0.1},\"fill_color\":{\"value\":\"#1f77b3\"},\"line_alpha\":{\"value\":0.1},\"line_color\":{\"value\":\"#1f77b3\"},\"x\":{\"field\":\"x\"},\"y\":{\"field\":\"__ECDF\"}},\"id\":\"1289\",\"type\":\"Circle\"},{\"attributes\":{\"data_source\":{\"id\":\"1292\"},\"glyph\":{\"id\":\"1293\"},\"hover_glyph\":null,\"muted_glyph\":null,\"nonselection_glyph\":{\"id\":\"1294\"},\"view\":{\"id\":\"1296\"}},\"id\":\"1295\",\"type\":\"GlyphRenderer\"},{\"attributes\":{\"axis\":{\"id\":\"1268\"},\"dimension\":1,\"ticker\":null},\"id\":\"1271\",\"type\":\"Grid\"},{\"attributes\":{\"line_color\":\"orange\",\"line_width\":2,\"x\":{\"field\":\"x\"},\"y\":{\"field\":\"y\"}},\"id\":\"1293\",\"type\":\"Line\"},{\"attributes\":{\"data\":{\"__ECDF\":{\"__ndarray__\":\"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\",\"dtype\":\"float64\",\"order\":\"little\",\"shape\":[1000]},\"__dummy_cat\":[\" \",\" \",\" \",\" \",\" \",\" \",\" \",\" \",\" \",\" \",\" \",\" \",\" \",\" \",\" \",\" \",\" \",\" \",\" \",\" \",\" \",\" \",\" \",\" \",\" \",\" \",\" \",\" \",\" \",\" \",\" \",\" \",\" \",\" \",\" \",\" \",\" \",\" \",\" \",\" \",\" \",\" \",\" \",\" \",\" \",\" \",\" \",\" \",\" \",\" \",\" \",\" \",\" \",\" \",\" \",\" \",\" \",\" \",\" \",\" \",\" \",\" \",\" \",\" \",\" \",\" \",\" \",\" \",\" \",\" \",\" \",\" \",\" \",\" \",\" \",\" \",\" \",\" \",\" \",\" \",\" \",\" \",\" \",\" \",\" \",\" \",\" \",\" \",\" \",\" \",\" \",\" \",\" \",\" \",\" \",\" \",\" \",\" \",\" \",\" \",\" \",\" \",\" \",\" \",\" \",\" \",\" \",\" \",\" \",\" \",\" \",\" \",\" \",\" \",\" \",\" \",\" \",\" \",\" \",\" \",\" \",\" \",\" \",\" \",\" \",\" \",\" \",\" \",\" \",\" \",\" \",\" \",\" \",\" \",\" \",\" \",\" \",\" \",\" \",\" \",\" \",\" \",\" \",\" \",\" \",\" \",\" \",\" \",\" \",\" \",\" \",\" \",\" \",\" \",\" \",\" \",\" \",\" \",\" \",\" \",\" \",\" \",\" \",\" \",\" \",\" \",\" \",\" \",\" \",\" \",\" \",\" \",\" \",\" \",\" \",\" \",\" \",\" \",\" \",\" \",\" \",\" \",\" \",\" \",\" \",\" \",\" \",\" \",\" \",\" \",\" \",\" \",\" \",\" \",\" \",\" \",\" \",\" \",\" \",\" \",\" \",\" \",\" \",\" \",\" \",\" \",\" \",\" \",\" \",\" \",\" \",\" \",\" \",\" \",\" \",\" \",\" \",\" \",\" \",\" \",\" \",\" \",\" \",\" \",\" \",\" \",\" \",\" \",\" \",\" \",\" \",\" \",\" \",\" \",\" \",\" \",\" \",\" \",\" \",\" \",\" \",\" \",\" \",\" \",\" \",\" \",\" \",\" \",\" \",\" \",\" \",\" \",\" \",\" \",\" \",\" \",\" \",\" \",\" \",\" \",\" \",\" \",\" \",\" \",\" \",\" \",\" \",\" \",\" \",\" \",\" \",\" \",\" \",\" \",\" \",\" \",\" \",\" \",\" \",\" \",\" \",\" \",\" \",\" \",\" \",\" \",\" \",\" \",\" \",\" \",\" \",\" \",\" \",\" \",\" \",\" \",\" \",\" \",\" \",\" \",\" \",\" \",\" \",\" \",\" \",\" \",\" \",\" \",\" \",\" \",\" \",\" \",\" \",\" \",\" \",\" \",\" \",\" \",\" \",\" \",\" \",\" \",\" \",\" \",\" \",\" \",\" \",\" \",\" \",\" \",\" \",\" \",\" \",\" \",\" \",\" \",\" \",\" \",\" \",\" \",\" \",\" \",\" \",\" \",\" \",\" \",\" \",\" \",\" \",\" \",\" \",\" \",\" \",\" \",\" \",\" \",\" \",\" \",\" \",\" \",\" \",\" \",\" \",\" \",\" \",\" \",\" \",\" \",\" \",\" \",\" \",\" \",\" \",\" \",\" \",\" \",\" \",\" \",\" \",\" \",\" \",\" \",\" \",\" \",\" \",\" \",\" \",\" \",\" \",\" \",\" \",\" \",\" \",\" \",\" \",\" \",\" \",\" \",\" \",\" \",\" \",\" \",\" \",\" \",\" \",\" \",\" \",\" \",\" \",\" \",\" \",\" \",\" \",\" \",\" \",\" \",\" \",\" \",\" \",\" \",\" \",\" \",\" \",\" \",\" \",\" \",\" \",\" \",\" \",\" \",\" \",\" \",\" \",\" \",\" \",\" \",\" \",\" \",\" \",\" \",\" \",\" \",\" \",\" \",\" \",\" \",\" \",\" \",\" \",\" \",\" \",\" \",\" \",\" \",\" \",\" \",\" \",\" \",\" \",\" \",\" \",\" \",\" \",\" \",\" \",\" \",\" \",\" \",\" \",\" \",\" \",\" \",\" \",\" \",\" \",\" \",\" \",\" \",\" \",\" \",\" \",\" \",\" \",\" \",\" \",\" \",\" \",\" \",\" \",\" \",\" \",\" \",\" \",\" \",\" \",\" \",\" \",\" \",\" \",\" \",\" \",\" \",\" \",\" \",\" \",\" \",\" \",\" \",\" \",\" \",\" \",\" \",\" \",\" \",\" \",\" \",\" \",\" \",\" \",\" \",\" \",\" \",\" \",\" \",\" \",\" \",\" \",\" \",\" \",\" \",\" \",\" \",\" \",\" \",\" \",\" \",\" \",\" \",\" \",\" \",\" \",\" \",\" \",\" \",\" \",\" \",\" \",\" \",\" \",\" \",\" \",\" \",\" \",\" \",\" \",\" \",\" \",\" \",\" \",\" \",\" \",\" \",\" \",\" \",\" \",\" \",\" \",\" \",\" \",\" \",\" \",\" \",\" \",\" \",\" \",\" \",\" \",\" \",\" \",\" \",\" \",\" \",\" \",\" \",\" \",\" \",\" \",\" \",\" \",\" \",\" \",\" \",\" \",\" \",\" \",\" \",\" \",\" \",\" \",\" \",\" \",\" \",\" \",\" \",\" \",\" \",\" \",\" \",\" \",\" \",\" \",\" \",\" \",\" \",\" \",\" \",\" \",\" \",\" \",\" \",\" \",\" \",\" \",\" \",\" \",\" \",\" \",\" \",\" \",\" \",\" \",\" \",\" \",\" \",\" \",\" \",\" \",\" \",\" \",\" \",\" \",\" \",\" \",\" \",\" \",\" \",\" \",\" \",\" \",\" \",\" \",\" \",\" \",\" \",\" \",\" \",\" \",\" \",\" \",\" \",\" \",\" \",\" \",\" \",\" \",\" \",\" \",\" \",\" \",\" \",\" \",\" \",\" \",\" \",\" \",\" \",\" \",\" \",\" \",\" \",\" \",\" \",\" \",\" \",\" \",\" \",\" \",\" \",\" \",\" \",\" \",\" \",\" \",\" \",\" \",\" \",\" \",\" \",\" \",\" \",\" \",\" \",\" \",\" \",\" \",\" \",\" \",\" \",\" \",\" \",\" \",\" \",\" \",\" \",\" \",\" \",\" \",\" \",\" \",\" \",\" \",\" \",\" \",\" \",\" \",\" \",\" \",\" \",\" \",\" \",\" \",\" \",\" \",\" \",\" \",\" \",\" \",\" \",\" \",\" \",\" \",\" \",\" \",\" \",\" \",\" \",\" \",\" \",\" \",\" \",\" \",\" \",\" \",\" \",\" \",\" \",\" \",\" \",\" \",\" \",\" \",\" \",\" \",\" \",\" \",\" \",\" \",\" \",\" \",\" \",\" \",\" \",\" \",\" \",\" \",\" \",\" \",\" \",\" \",\" \",\" \",\" \",\" \",\" \",\" \",\" \",\" \",\" \",\" \",\" \",\" \",\" \",\" \",\" \",\" \",\" \",\" \",\" \",\" \",\" \",\" \",\" \",\" \",\" \",\" \",\" \",\" \",\" \",\" \",\" \",\" \",\" \",\" \",\" \",\" \",\" \",\" \",\" \",\" \",\" \",\" \",\" \",\" \",\" \",\" \",\" \",\" \",\" \",\" \",\" \",\" \",\" \",\" \",\" \",\" \",\" \",\" \",\" \",\" \",\" \",\" \",\" \",\" \",\" \",\" \",\" \",\" \",\" \",\" \",\" \",\" \",\" \",\" \",\" \",\" \",\" \",\" \",\" \",\" \",\" \",\" \",\" \",\" \",\" \",\" \",\" \",\" \",\" \",\" \",\" \",\" \",\" \",\" \",\" \",\" \",\" \",\" \",\" \",\" \",\" \",\" \",\" \",\" \",\" \",\" \",\" \",\" \",\" \",\" \",\" \",\" \",\" \",\" \",\" \",\" \",\" \",\" \",\" \",\" \",\" \",\" \",\" \",\" \",\" \",\" \",\" \",\" \",\" \",\" \",\" \",\" \",\" \",\" \",\" \",\" \",\" \",\" \",\" \",\" \",\" \",\" \",\" \",\" \",\" \",\" \",\" \",\" \",\" \",\" \",\" \",\" \",\" \",\" \",\" \",\" \",\" \",\" \",\" \",\" \",\" \",\" \",\" \",\" \",\" \",\" \",\" \",\" \",\" \",\" \",\" \",\" \",\" \",\" \",\" \",\" \",\" \",\" \",\" \",\" \",\" \",\" \",\" \",\" \",\" \",\" \",\" \",\" \",\" \",\" \",\" \",\" \",\" \",\" \",\" \",\" \",\" \",\" \",\" \",\" \",\" \",\" \",\" \",\" \",\" \",\" \",\" \",\" \",\" \",\" \",\" \",\" \",\" \",\" \",\" \",\" \",\" \",\" \",\" \",\" \",\" \"],\"__label\":[\" \",\" \",\" \",\" \",\" \",\" \",\" \",\" \",\" \",\" \",\" \",\" \",\" \",\" \",\" \",\" \",\" \",\" \",\" \",\" \",\" \",\" \",\" \",\" \",\" \",\" \",\" \",\" \",\" \",\" \",\" \",\" \",\" \",\" \",\" \",\" \",\" \",\" \",\" \",\" \",\" \",\" \",\" \",\" \",\" \",\" \",\" \",\" \",\" \",\" \",\" \",\" \",\" \",\" \",\" \",\" \",\" \",\" \",\" \",\" \",\" \",\" \",\" \",\" \",\" \",\" \",\" \",\" \",\" \",\" \",\" \",\" \",\" \",\" \",\" \",\" \",\" \",\" \",\" \",\" \",\" \",\" \",\" \",\" \",\" \",\" \",\" \",\" \",\" \",\" \",\" \",\" \",\" \",\" \",\" \",\" \",\" \",\" \",\" \",\" \",\" \",\" \",\" \",\" \",\" \",\" \",\" \",\" \",\" \",\" \",\" \",\" \",\" \",\" \",\" \",\" \",\" \",\" \",\" \",\" \",\" \",\" \",\" \",\" \",\" \",\" \",\" \",\" \",\" \",\" \",\" \",\" \",\" \",\" \",\" \",\" \",\" \",\" \",\" \",\" \",\" \",\" \",\" \",\" \",\" \",\" \",\" \",\" \",\" \",\" \",\" \",\" \",\" \",\" \",\" \",\" \",\" \",\" \",\" \",\" \",\" \",\" \",\" \",\" \",\" \",\" \",\" \",\" \",\" \",\" \",\" \",\" \",\" \",\" \",\" \",\" \",\" \",\" \",\" \",\" \",\" \",\" \",\" \",\" \",\" \",\" \",\" \",\" \",\" \",\" \",\" \",\" \",\" \",\" \",\" \",\" \",\" \",\" \",\" \",\" \",\" \",\" \",\" \",\" \",\" \",\" \",\" \",\" \",\" \",\" \",\" \",\" \",\" \",\" \",\" \",\" \",\" \",\" \",\" \",\" \",\" \",\" \",\" \",\" \",\" \",\" \",\" \",\" \",\" \",\" \",\" \",\" \",\" \",\" \",\" \",\" \",\" \",\" \",\" \",\" \",\" \",\" \",\" \",\" \",\" \",\" \",\" \",\" \",\" \",\" \",\" \",\" \",\" \",\" \",\" \",\" \",\" \",\" \",\" \",\" \",\" \",\" \",\" \",\" \",\" \",\" \",\" \",\" \",\" \",\" \",\" \",\" \",\" \",\" \",\" \",\" \",\" \",\" \",\" \",\" \",\" \",\" \",\" \",\" \",\" \",\" \",\" \",\" \",\" \",\" \",\" \",\" \",\" \",\" \",\" \",\" \",\" \",\" \",\" \",\" \",\" \",\" \",\" \",\" \",\" \",\" \",\" \",\" \",\" \",\" \",\" \",\" \",\" \",\" \",\" \",\" \",\" \",\" \",\" \",\" \",\" \",\" \",\" \",\" \",\" \",\" \",\" \",\" \",\" \",\" \",\" \",\" \",\" \",\" \",\" \",\" \",\" \",\" \",\" \",\" \",\" \",\" \",\" \",\" \",\" \",\" \",\" \",\" \",\" \",\" \",\" \",\" \",\" \",\" \",\" \",\" \",\" \",\" \",\" \",\" \",\" \",\" \",\" \",\" \",\" \",\" \",\" \",\" \",\" \",\" \",\" \",\" \",\" \",\" \",\" \",\" \",\" \",\" \",\" \",\" \",\" \",\" \",\" \",\" \",\" \",\" \",\" \",\" \",\" \",\" \",\" \",\" \",\" \",\" \",\" \",\" \",\" \",\" \",\" \",\" \",\" \",\" \",\" \",\" \",\" \",\" \",\" \",\" \",\" \",\" \",\" \",\" \",\" \",\" \",\" \",\" \",\" \",\" \",\" \",\" \",\" \",\" \",\" \",\" \",\" \",\" \",\" \",\" \",\" \",\" \",\" \",\" \",\" \",\" \",\" \",\" \",\" \",\" \",\" \",\" \",\" \",\" \",\" \",\" \",\" \",\" \",\" \",\" \",\" \",\" \",\" \",\" \",\" \",\" \",\" \",\" \",\" \",\" \",\" \",\" \",\" \",\" \",\" \",\" \",\" \",\" \",\" \",\" \",\" \",\" \",\" \",\" \",\" \",\" \",\" \",\" \",\" \",\" \",\" \",\" \",\" \",\" \",\" \",\" \",\" \",\" \",\" \",\" \",\" \",\" \",\" \",\" \",\" \",\" \",\" \",\" \",\" \",\" \",\" \",\" \",\" \",\" \",\" \",\" \",\" \",\" \",\" \",\" \",\" \",\" \",\" \",\" \",\" \",\" \",\" \",\" \",\" \",\" \",\" \",\" \",\" \",\" \",\" \",\" \",\" \",\" \",\" \",\" \",\" \",\" \",\" \",\" \",\" \",\" \",\" \",\" \",\" \",\" \",\" \",\" \",\" \",\" \",\" \",\" \",\" \",\" \",\" \",\" \",\" \",\" \",\" \",\" \",\" \",\" \",\" \",\" \",\" \",\" \",\" \",\" \",\" \",\" \",\" \",\" \",\" \",\" \",\" \",\" \",\" \",\" \",\" \",\" \",\" \",\" \",\" \",\" \",\" \",\" \",\" \",\" \",\" \",\" \",\" \",\" \",\" \",\" \",\" \",\" \",\" \",\" \",\" \",\" \",\" \",\" \",\" \",\" \",\" \",\" \",\" \",\" \",\" \",\" \",\" \",\" \",\" \",\" \",\" \",\" \",\" \",\" \",\" \",\" \",\" \",\" \",\" \",\" \",\" \",\" \",\" \",\" \",\" \",\" \",\" \",\" \",\" \",\" \",\" \",\" \",\" \",\" \",\" \",\" \",\" \",\" \",\" \",\" \",\" \",\" \",\" \",\" \",\" \",\" \",\" \",\" \",\" \",\" \",\" \",\" \",\" \",\" \",\" \",\" \",\" \",\" \",\" \",\" \",\" \",\" \",\" \",\" \",\" \",\" \",\" \",\" \",\" \",\" \",\" \",\" \",\" \",\" \",\" \",\" \",\" \",\" \",\" \",\" \",\" \",\" \",\" \",\" \",\" \",\" \",\" \",\" \",\" \",\" \",\" \",\" \",\" \",\" \",\" \",\" \",\" \",\" \",\" \",\" \",\" \",\" \",\" \",\" \",\" \",\" \",\" \",\" \",\" \",\" \",\" \",\" \",\" \",\" \",\" \",\" \",\" \",\" \",\" \",\" \",\" \",\" \",\" \",\" \",\" \",\" \",\" \",\" \",\" \",\" \",\" \",\" \",\" \",\" \",\" \",\" \",\" \",\" \",\" \",\" \",\" \",\" \",\" \",\" \",\" \",\" \",\" \",\" \",\" \",\" \",\" \",\" \",\" \",\" \",\" \",\" \",\" \",\" \",\" \",\" \",\" \",\" \",\" \",\" \",\" \",\" \",\" \",\" \",\" \",\" \",\" \",\" \",\" \",\" \",\" \",\" \",\" \",\" \",\" \",\" \",\" \",\" \",\" \",\" \",\" \",\" \",\" \",\" \",\" \",\" \",\" \",\" \",\" \",\" \",\" \",\" \",\" \",\" \",\" \",\" \",\" \",\" \",\" \",\" \",\" \",\" \",\" \",\" \",\" \",\" \",\" \",\" \",\" \",\" \",\" \",\" \",\" \",\" \",\" \",\" \",\" \",\" \",\" \",\" \",\" \",\" \",\" \",\" \",\" \",\" \",\" \",\" \",\" \",\" \",\" \",\" \",\" \",\" \",\" \",\" \",\" \",\" \",\" \",\" \",\" \",\" \",\" \",\" \",\" \",\" \",\" \",\" \",\" \",\" \",\" \",\" \",\" \",\" \",\" \",\" \",\" \",\" \",\" \",\" \",\" \",\" \",\" \",\" \",\" \",\" \",\" \",\" \",\" \",\" \",\" \",\" \",\" \",\" \",\" \",\" \",\" \",\" \",\" \",\" \",\" \",\" \",\" \",\" \",\" \",\" \",\" \",\" \",\" \",\" \",\" \",\" \",\" \",\" \",\" \",\" \",\" \",\" \",\" \",\" \",\" \",\" \",\" \",\" \",\" \",\" \",\" \",\" \",\" \",\" \",\" \",\" \",\" \",\" \",\" \",\" \",\" \",\" \",\" \",\" \",\" \",\" \",\" \",\" \",\" \",\" \",\" \",\" \",\" \",\" \",\" \",\" \",\" \",\" \",\" \",\" \",\" \",\" \",\" \",\" \",\" \",\" \",\" \",\" \",\" \",\" \",\" \",\" \",\" \",\" \",\" \",\" \",\" \",\" \",\" \",\" \",\" \",\" \",\" \",\" \",\" \",\" \",\" \",\" \",\" \",\" \",\" \",\" \",\" \",\" \",\" \",\" \",\" \",\" \",\" \",\" \",\" \",\" \",\" \",\" \",\" \",\" \",\" \",\" \",\" \",\" \",\" \",\" \",\" \",\" \",\" \",\" \",\" \",\" \",\" \",\" \",\" \",\" \",\" \",\" \"],\"index\":[0,1,2,3,4,5,6,7,8,9,10,11,12,13,14,15,16,17,18,19,20,21,22,23,24,25,26,27,28,29,30,31,32,33,34,35,36,37,38,39,40,41,42,43,44,45,46,47,48,49,50,51,52,53,54,55,56,57,58,59,60,61,62,63,64,65,66,67,68,69,70,71,72,73,74,75,76,77,78,79,80,81,82,83,84,85,86,87,88,89,90,91,92,93,94,95,96,97,98,99,100,101,102,103,104,105,106,107,108,109,110,111,112,113,114,115,116,117,118,119,120,121,122,123,124,125,126,127,128,129,130,131,132,133,134,135,136,137,138,139,140,141,142,143,144,145,146,147,148,149,150,151,152,153,154,155,156,157,158,159,160,161,162,163,164,165,166,167,168,169,170,171,172,173,174,175,176,177,178,179,180,181,182,183,184,185,186,187,188,189,190,191,192,193,194,195,196,197,198,199,200,201,202,203,204,205,206,207,208,209,210,211,212,213,214,215,216,217,218,219,220,221,222,223,224,225,226,227,228,229,230,231,232,233,234,235,236,237,238,239,240,241,242,243,244,245,246,247,248,249,250,251,252,253,254,255,256,257,258,259,260,261,262,263,264,265,266,267,268,269,270,271,272,273,274,275,276,277,278,279,280,281,282,283,284,285,286,287,288,289,290,291,292,293,294,295,296,297,298,299,300,301,302,303,304,305,306,307,308,309,310,311,312,313,314,315,316,317,318,319,320,321,322,323,324,325,326,327,328,329,330,331,332,333,334,335,336,337,338,339,340,341,342,343,344,345,346,347,348,349,350,351,352,353,354,355,356,357,358,359,360,361,362,363,364,365,366,367,368,369,370,371,372,373,374,375,376,377,378,379,380,381,382,383,384,385,386,387,388,389,390,391,392,393,394,395,396,397,398,399,400,401,402,403,404,405,406,407,408,409,410,411,412,413,414,415,416,417,418,419,420,421,422,423,424,425,426,427,428,429,430,431,432,433,434,435,436,437,438,439,440,441,442,443,444,445,446,447,448,449,450,451,452,453,454,455,456,457,458,459,460,461,462,463,464,465,466,467,468,469,470,471,472,473,474,475,476,477,478,479,480,481,482,483,484,485,486,487,488,489,490,491,492,493,494,495,496,497,498,499,500,501,502,503,504,505,506,507,508,509,510,511,512,513,514,515,516,517,518,519,520,521,522,523,524,525,526,527,528,529,530,531,532,533,534,535,536,537,538,539,540,541,542,543,544,545,546,547,548,549,550,551,552,553,554,555,556,557,558,559,560,561,562,563,564,565,566,567,568,569,570,571,572,573,574,575,576,577,578,579,580,581,582,583,584,585,586,587,588,589,590,591,592,593,594,595,596,597,598,599,600,601,602,603,604,605,606,607,608,609,610,611,612,613,614,615,616,617,618,619,620,621,622,623,624,625,626,627,628,629,630,631,632,633,634,635,636,637,638,639,640,641,642,643,644,645,646,647,648,649,650,651,652,653,654,655,656,657,658,659,660,661,662,663,664,665,666,667,668,669,670,671,672,673,674,675,676,677,678,679,680,681,682,683,684,685,686,687,688,689,690,691,692,693,694,695,696,697,698,699,700,701,702,703,704,705,706,707,708,709,710,711,712,713,714,715,716,717,718,719,720,721,722,723,724,725,726,727,728,729,730,731,732,733,734,735,736,737,738,739,740,741,742,743,744,745,746,747,748,749,750,751,752,753,754,755,756,757,758,759,760,761,762,763,764,765,766,767,768,769,770,771,772,773,774,775,776,777,778,779,780,781,782,783,784,785,786,787,788,789,790,791,792,793,794,795,796,797,798,799,800,801,802,803,804,805,806,807,808,809,810,811,812,813,814,815,816,817,818,819,820,821,822,823,824,825,826,827,828,829,830,831,832,833,834,835,836,837,838,839,840,841,842,843,844,845,846,847,848,849,850,851,852,853,854,855,856,857,858,859,860,861,862,863,864,865,866,867,868,869,870,871,872,873,874,875,876,877,878,879,880,881,882,883,884,885,886,887,888,889,890,891,892,893,894,895,896,897,898,899,900,901,902,903,904,905,906,907,908,909,910,911,912,913,914,915,916,917,918,919,920,921,922,923,924,925,926,927,928,929,930,931,932,933,934,935,936,937,938,939,940,941,942,943,944,945,946,947,948,949,950,951,952,953,954,955,956,957,958,959,960,961,962,963,964,965,966,967,968,969,970,971,972,973,974,975,976,977,978,979,980,981,982,983,984,985,986,987,988,989,990,991,992,993,994,995,996,997,998,999],\"x\":{\"__ndarray__\":\"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\",\"dtype\":\"float64\",\"order\":\"little\",\"shape\":[1000]}},\"selected\":{\"id\":\"1331\"},\"selection_policy\":{\"id\":\"1332\"}},\"id\":\"1286\",\"type\":\"ColumnDataSource\"},{\"attributes\":{},\"id\":\"1273\",\"type\":\"WheelZoomTool\"},{\"attributes\":{\"active_multi\":null,\"tools\":[{\"id\":\"1272\"},{\"id\":\"1273\"},{\"id\":\"1274\"},{\"id\":\"1275\"},{\"id\":\"1276\"},{\"id\":\"1277\"}]},\"id\":\"1279\",\"type\":\"Toolbar\"}],\"root_ids\":[\"1255\"]},\"title\":\"Bokeh Application\",\"version\":\"2.3.2\"}};\n",
       "  var render_items = [{\"docid\":\"a2dfc70e-bffc-4cb5-bd0f-1acc0f1ac621\",\"root_ids\":[\"1255\"],\"roots\":{\"1255\":\"a73e3d9e-84e6-4d4b-886e-5bd6ccd8b8d8\"}}];\n",
       "  root.Bokeh.embed.embed_items_notebook(docs_json, render_items);\n",
       "\n",
       "  }\n",
       "  if (root.Bokeh !== undefined) {\n",
       "    embed_document(root);\n",
       "  } else {\n",
       "    var attempts = 0;\n",
       "    var timer = setInterval(function(root) {\n",
       "      if (root.Bokeh !== undefined) {\n",
       "        clearInterval(timer);\n",
       "        embed_document(root);\n",
       "      } else {\n",
       "        attempts++;\n",
       "        if (attempts > 100) {\n",
       "          clearInterval(timer);\n",
       "          console.log(\"Bokeh: ERROR: Unable to run BokehJS code because BokehJS library is missing\");\n",
       "        }\n",
       "      }\n",
       "    }, 10, root)\n",
       "  }\n",
       "})(window);"
      ],
      "application/vnd.bokehjs_exec.v0+json": ""
     },
     "metadata": {
      "application/vnd.bokehjs_exec.v0+json": {
       "id": "1255"
      }
     },
     "output_type": "display_data"
    }
   ],
   "source": [
    "# Compute theoretical CDF\n",
    "x_theor = np.linspace(6, 14, 400)\n",
    "y_theor = scipy.stats.norm.cdf(x_theor, mu, sigma)\n",
    "\n",
    "# Plot the ECDF of randomly generated numbers\n",
    "p = iqplot.ecdf(x[:1000])\n",
    "\n",
    "p.line(\n",
    "    x=x_theor,\n",
    "    y=y_theor,\n",
    "    line_width=2,\n",
    "    line_color=\"orange\",\n",
    ")\n",
    "\n",
    "bokeh.io.show(p)"
   ]
  },
  {
   "cell_type": "markdown",
   "metadata": {},
   "source": [
    "Yup, right on!"
   ]
  },
  {
   "cell_type": "markdown",
   "metadata": {},
   "source": [
    "## Selections from discrete distributions\n",
    "\n",
    "The random numbers we have generated so far from from continuous probability distributions. We can also draw random numbers from discrete distributions. We already showed how we can do this for \"coin flips,\" but we can do it for other distributions as well. Say we wanted to draw from a Binomial distribution. We can use `rg.binomial()`."
   ]
  },
  {
   "cell_type": "code",
   "execution_count": 12,
   "metadata": {},
   "outputs": [
    {
     "data": {
      "text/plain": [
       "7"
      ]
     },
     "execution_count": 12,
     "metadata": {},
     "output_type": "execute_result"
    }
   ],
   "source": [
    "# Draw how many coin flips land heads in 10 files\n",
    "rg.binomial(10, 0.5)"
   ]
  },
  {
   "cell_type": "markdown",
   "metadata": {},
   "source": [
    "There are other discrete distributions we can draw from, such as Binomial, Geometric, Poisson, etc., and [the documentation](http://docs.scipy.org/doc/numpy/reference/routines.random.html) describes how to use them."
   ]
  },
  {
   "cell_type": "markdown",
   "metadata": {},
   "source": [
    "## Choosing elements from an array\n",
    "\n",
    "It is often useful to randomly choose elements from an existing array. The `rg.choice()` function does this. You equivalently could do this using `rg.integers()`, where the integers represent indices in the array, *except* `rg.choice()` has a great keyword argument, `replace`, which allows random draws with or without replacement. For example, say you had 52 samples that you wanted to send to a facility for analysis, but you can only afford to send 20. If we used `rg.integers()`, we might have a problem."
   ]
  },
  {
   "cell_type": "code",
   "execution_count": 13,
   "metadata": {},
   "outputs": [
    {
     "data": {
      "text/plain": [
       "array([ 1,  2,  2,  6,  7,  9, 11, 11, 11, 13, 15, 18, 21, 22, 22, 24, 31,\n",
       "       34, 37, 39])"
      ]
     },
     "execution_count": 13,
     "metadata": {},
     "output_type": "execute_result"
    }
   ],
   "source": [
    "rg = np.random.default_rng(seed=3252)\n",
    "np.sort(rg.integers(0, 52, size=20))"
   ]
  },
  {
   "cell_type": "markdown",
   "metadata": {},
   "source": [
    "Samples 2, 11, and 22 we each selected twice!"
   ]
  },
  {
   "cell_type": "code",
   "execution_count": 14,
   "metadata": {},
   "outputs": [
    {
     "data": {
      "text/plain": [
       "array([ 5, 38, 44, 12, 49, 10, 47, 46, 40, 23, 18,  1, 13, 21, 42, 28, 29,\n",
       "       37, 26, 32])"
      ]
     },
     "execution_count": 14,
     "metadata": {},
     "output_type": "execute_result"
    }
   ],
   "source": [
    "rg.choice(np.arange(52), size=20, replace=False)"
   ]
  },
  {
   "cell_type": "markdown",
   "metadata": {},
   "source": [
    "Now, because we chose `replace=False`, we do not get any repeats."
   ]
  },
  {
   "cell_type": "markdown",
   "metadata": {},
   "source": [
    "### Generating random sequences\n",
    "\n",
    "Because it works with selecting characters as well as numbers, we can use the `rg.choice()` function to generate random DNA sequences."
   ]
  },
  {
   "cell_type": "code",
   "execution_count": 15,
   "metadata": {},
   "outputs": [
    {
     "data": {
      "text/plain": [
       "'CAGGAGTCGCTGGGATAACAATTGTGACCTATGTAACTCAGCGAAGAGACTCGGGCCCGACCCACTAAAG'"
      ]
     },
     "execution_count": 15,
     "metadata": {},
     "output_type": "execute_result"
    }
   ],
   "source": [
    "''.join(rg.choice(list('ATGC'), replace=True, size=70))"
   ]
  },
  {
   "cell_type": "markdown",
   "metadata": {},
   "source": [
    "## Shuffling an array\n",
    "\n",
    "Similarly, the `rg.permutation()` function is useful. It takes the entries in an array and shuffles them! Let's shuffle a deck of cards."
   ]
  },
  {
   "cell_type": "code",
   "execution_count": 16,
   "metadata": {},
   "outputs": [
    {
     "data": {
      "text/plain": [
       "array([51, 36, 30, 35,  2,  9, 19, 40, 42, 32, 21, 45, 43, 26, 16, 27,  0,\n",
       "       25, 41, 33, 24, 47, 10, 11,  5, 14, 23, 17, 29, 12, 13, 28, 48, 22,\n",
       "        8, 46,  7, 49, 44, 31,  6, 34, 50,  1, 18, 20, 15, 39,  4, 38,  3,\n",
       "       37])"
      ]
     },
     "execution_count": 16,
     "metadata": {},
     "output_type": "execute_result"
    }
   ],
   "source": [
    "rg.permutation(np.arange(52))"
   ]
  },
  {
   "cell_type": "markdown",
   "metadata": {},
   "source": [
    "## When do we need RNG?\n",
    "\n",
    "Answer: VERY OFTEN!  We will see many examples in the next lessons and in the exercises.  \n",
    "\n",
    "In many ways, probability is the language of biology. Molecular processes have energetics that are comparable to the thermal energy, which means they are always influenced by random thermal forces. The processes of the central dogma, including DNA replication, are no exceptions. This gives rise to random mutations, which are central to understanding how evolution works. If we want to understand them, it is often useful to use random number generators to model the processes.\n",
    "\n",
    "RNG also comes up A LOT in data analysis, which we will see in the lessons on hacker stats."
   ]
  },
  {
   "cell_type": "markdown",
   "metadata": {},
   "source": [
    "## Computing environment"
   ]
  },
  {
   "cell_type": "code",
   "execution_count": 17,
   "metadata": {
    "tags": [
     "hide-input"
    ]
   },
   "outputs": [
    {
     "name": "stdout",
     "output_type": "stream",
     "text": [
      "Python implementation: CPython\n",
      "Python version       : 3.8.10\n",
      "IPython version      : 7.22.0\n",
      "\n",
      "numpy     : 1.20.2\n",
      "scipy     : 1.6.2\n",
      "pandas    : 1.2.4\n",
      "bokeh     : 2.3.2\n",
      "iqplot    : 0.2.3\n",
      "jupyterlab: 3.0.14\n",
      "\n"
     ]
    }
   ],
   "source": [
    "%load_ext watermark\n",
    "%watermark -v -p numpy,scipy,pandas,bokeh,iqplot,jupyterlab"
   ]
  }
 ],
 "metadata": {
  "anaconda-cloud": {},
  "kernelspec": {
   "display_name": "Python 3",
   "language": "python",
   "name": "python3"
  },
  "language_info": {
   "codemirror_mode": {
    "name": "ipython",
    "version": 3
   },
   "file_extension": ".py",
   "mimetype": "text/x-python",
   "name": "python",
   "nbconvert_exporter": "python",
   "pygments_lexer": "ipython3",
   "version": "3.8.10"
  }
 },
 "nbformat": 4,
 "nbformat_minor": 4
}
