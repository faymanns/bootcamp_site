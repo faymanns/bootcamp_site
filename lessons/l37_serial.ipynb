{
 "cells": [
  {
   "cell_type": "markdown",
   "metadata": {},
   "source": [
    "# Lesson 37: Control of external devices\n",
    "\n",
    "<hr>"
   ]
  },
  {
   "cell_type": "code",
   "execution_count": 1,
   "metadata": {},
   "outputs": [
    {
     "data": {
      "text/html": [
       "\n",
       "    <div class=\"bk-root\">\n",
       "        <a href=\"https://bokeh.org\" target=\"_blank\" class=\"bk-logo bk-logo-small bk-logo-notebook\"></a>\n",
       "        <span id=\"1001\">Loading BokehJS ...</span>\n",
       "    </div>"
      ]
     },
     "metadata": {},
     "output_type": "display_data"
    },
    {
     "data": {
      "application/javascript": [
       "\n",
       "(function(root) {\n",
       "  function now() {\n",
       "    return new Date();\n",
       "  }\n",
       "\n",
       "  var force = true;\n",
       "\n",
       "  if (typeof root._bokeh_onload_callbacks === \"undefined\" || force === true) {\n",
       "    root._bokeh_onload_callbacks = [];\n",
       "    root._bokeh_is_loading = undefined;\n",
       "  }\n",
       "\n",
       "  var JS_MIME_TYPE = 'application/javascript';\n",
       "  var HTML_MIME_TYPE = 'text/html';\n",
       "  var EXEC_MIME_TYPE = 'application/vnd.bokehjs_exec.v0+json';\n",
       "  var CLASS_NAME = 'output_bokeh rendered_html';\n",
       "\n",
       "  /**\n",
       "   * Render data to the DOM node\n",
       "   */\n",
       "  function render(props, node) {\n",
       "    var script = document.createElement(\"script\");\n",
       "    node.appendChild(script);\n",
       "  }\n",
       "\n",
       "  /**\n",
       "   * Handle when an output is cleared or removed\n",
       "   */\n",
       "  function handleClearOutput(event, handle) {\n",
       "    var cell = handle.cell;\n",
       "\n",
       "    var id = cell.output_area._bokeh_element_id;\n",
       "    var server_id = cell.output_area._bokeh_server_id;\n",
       "    // Clean up Bokeh references\n",
       "    if (id != null && id in Bokeh.index) {\n",
       "      Bokeh.index[id].model.document.clear();\n",
       "      delete Bokeh.index[id];\n",
       "    }\n",
       "\n",
       "    if (server_id !== undefined) {\n",
       "      // Clean up Bokeh references\n",
       "      var cmd = \"from bokeh.io.state import curstate; print(curstate().uuid_to_server['\" + server_id + \"'].get_sessions()[0].document.roots[0]._id)\";\n",
       "      cell.notebook.kernel.execute(cmd, {\n",
       "        iopub: {\n",
       "          output: function(msg) {\n",
       "            var id = msg.content.text.trim();\n",
       "            if (id in Bokeh.index) {\n",
       "              Bokeh.index[id].model.document.clear();\n",
       "              delete Bokeh.index[id];\n",
       "            }\n",
       "          }\n",
       "        }\n",
       "      });\n",
       "      // Destroy server and session\n",
       "      var cmd = \"import bokeh.io.notebook as ion; ion.destroy_server('\" + server_id + \"')\";\n",
       "      cell.notebook.kernel.execute(cmd);\n",
       "    }\n",
       "  }\n",
       "\n",
       "  /**\n",
       "   * Handle when a new output is added\n",
       "   */\n",
       "  function handleAddOutput(event, handle) {\n",
       "    var output_area = handle.output_area;\n",
       "    var output = handle.output;\n",
       "\n",
       "    // limit handleAddOutput to display_data with EXEC_MIME_TYPE content only\n",
       "    if ((output.output_type != \"display_data\") || (!Object.prototype.hasOwnProperty.call(output.data, EXEC_MIME_TYPE))) {\n",
       "      return\n",
       "    }\n",
       "\n",
       "    var toinsert = output_area.element.find(\".\" + CLASS_NAME.split(' ')[0]);\n",
       "\n",
       "    if (output.metadata[EXEC_MIME_TYPE][\"id\"] !== undefined) {\n",
       "      toinsert[toinsert.length - 1].firstChild.textContent = output.data[JS_MIME_TYPE];\n",
       "      // store reference to embed id on output_area\n",
       "      output_area._bokeh_element_id = output.metadata[EXEC_MIME_TYPE][\"id\"];\n",
       "    }\n",
       "    if (output.metadata[EXEC_MIME_TYPE][\"server_id\"] !== undefined) {\n",
       "      var bk_div = document.createElement(\"div\");\n",
       "      bk_div.innerHTML = output.data[HTML_MIME_TYPE];\n",
       "      var script_attrs = bk_div.children[0].attributes;\n",
       "      for (var i = 0; i < script_attrs.length; i++) {\n",
       "        toinsert[toinsert.length - 1].firstChild.setAttribute(script_attrs[i].name, script_attrs[i].value);\n",
       "        toinsert[toinsert.length - 1].firstChild.textContent = bk_div.children[0].textContent\n",
       "      }\n",
       "      // store reference to server id on output_area\n",
       "      output_area._bokeh_server_id = output.metadata[EXEC_MIME_TYPE][\"server_id\"];\n",
       "    }\n",
       "  }\n",
       "\n",
       "  function register_renderer(events, OutputArea) {\n",
       "\n",
       "    function append_mime(data, metadata, element) {\n",
       "      // create a DOM node to render to\n",
       "      var toinsert = this.create_output_subarea(\n",
       "        metadata,\n",
       "        CLASS_NAME,\n",
       "        EXEC_MIME_TYPE\n",
       "      );\n",
       "      this.keyboard_manager.register_events(toinsert);\n",
       "      // Render to node\n",
       "      var props = {data: data, metadata: metadata[EXEC_MIME_TYPE]};\n",
       "      render(props, toinsert[toinsert.length - 1]);\n",
       "      element.append(toinsert);\n",
       "      return toinsert\n",
       "    }\n",
       "\n",
       "    /* Handle when an output is cleared or removed */\n",
       "    events.on('clear_output.CodeCell', handleClearOutput);\n",
       "    events.on('delete.Cell', handleClearOutput);\n",
       "\n",
       "    /* Handle when a new output is added */\n",
       "    events.on('output_added.OutputArea', handleAddOutput);\n",
       "\n",
       "    /**\n",
       "     * Register the mime type and append_mime function with output_area\n",
       "     */\n",
       "    OutputArea.prototype.register_mime_type(EXEC_MIME_TYPE, append_mime, {\n",
       "      /* Is output safe? */\n",
       "      safe: true,\n",
       "      /* Index of renderer in `output_area.display_order` */\n",
       "      index: 0\n",
       "    });\n",
       "  }\n",
       "\n",
       "  // register the mime type if in Jupyter Notebook environment and previously unregistered\n",
       "  if (root.Jupyter !== undefined) {\n",
       "    var events = require('base/js/events');\n",
       "    var OutputArea = require('notebook/js/outputarea').OutputArea;\n",
       "\n",
       "    if (OutputArea.prototype.mime_types().indexOf(EXEC_MIME_TYPE) == -1) {\n",
       "      register_renderer(events, OutputArea);\n",
       "    }\n",
       "  }\n",
       "\n",
       "  \n",
       "  if (typeof (root._bokeh_timeout) === \"undefined\" || force === true) {\n",
       "    root._bokeh_timeout = Date.now() + 5000;\n",
       "    root._bokeh_failed_load = false;\n",
       "  }\n",
       "\n",
       "  var NB_LOAD_WARNING = {'data': {'text/html':\n",
       "     \"<div style='background-color: #fdd'>\\n\"+\n",
       "     \"<p>\\n\"+\n",
       "     \"BokehJS does not appear to have successfully loaded. If loading BokehJS from CDN, this \\n\"+\n",
       "     \"may be due to a slow or bad network connection. Possible fixes:\\n\"+\n",
       "     \"</p>\\n\"+\n",
       "     \"<ul>\\n\"+\n",
       "     \"<li>re-rerun `output_notebook()` to attempt to load from CDN again, or</li>\\n\"+\n",
       "     \"<li>use INLINE resources instead, as so:</li>\\n\"+\n",
       "     \"</ul>\\n\"+\n",
       "     \"<code>\\n\"+\n",
       "     \"from bokeh.resources import INLINE\\n\"+\n",
       "     \"output_notebook(resources=INLINE)\\n\"+\n",
       "     \"</code>\\n\"+\n",
       "     \"</div>\"}};\n",
       "\n",
       "  function display_loaded() {\n",
       "    var el = document.getElementById(\"1001\");\n",
       "    if (el != null) {\n",
       "      el.textContent = \"BokehJS is loading...\";\n",
       "    }\n",
       "    if (root.Bokeh !== undefined) {\n",
       "      if (el != null) {\n",
       "        el.textContent = \"BokehJS \" + root.Bokeh.version + \" successfully loaded.\";\n",
       "      }\n",
       "    } else if (Date.now() < root._bokeh_timeout) {\n",
       "      setTimeout(display_loaded, 100)\n",
       "    }\n",
       "  }\n",
       "\n",
       "\n",
       "  function run_callbacks() {\n",
       "    try {\n",
       "      root._bokeh_onload_callbacks.forEach(function(callback) {\n",
       "        if (callback != null)\n",
       "          callback();\n",
       "      });\n",
       "    } finally {\n",
       "      delete root._bokeh_onload_callbacks\n",
       "    }\n",
       "    console.debug(\"Bokeh: all callbacks have finished\");\n",
       "  }\n",
       "\n",
       "  function load_libs(css_urls, js_urls, callback) {\n",
       "    if (css_urls == null) css_urls = [];\n",
       "    if (js_urls == null) js_urls = [];\n",
       "\n",
       "    root._bokeh_onload_callbacks.push(callback);\n",
       "    if (root._bokeh_is_loading > 0) {\n",
       "      console.debug(\"Bokeh: BokehJS is being loaded, scheduling callback at\", now());\n",
       "      return null;\n",
       "    }\n",
       "    if (js_urls == null || js_urls.length === 0) {\n",
       "      run_callbacks();\n",
       "      return null;\n",
       "    }\n",
       "    console.debug(\"Bokeh: BokehJS not loaded, scheduling load and callback at\", now());\n",
       "    root._bokeh_is_loading = css_urls.length + js_urls.length;\n",
       "\n",
       "    function on_load() {\n",
       "      root._bokeh_is_loading--;\n",
       "      if (root._bokeh_is_loading === 0) {\n",
       "        console.debug(\"Bokeh: all BokehJS libraries/stylesheets loaded\");\n",
       "        run_callbacks()\n",
       "      }\n",
       "    }\n",
       "\n",
       "    function on_error(url) {\n",
       "      console.error(\"failed to load \" + url);\n",
       "    }\n",
       "\n",
       "    for (let i = 0; i < css_urls.length; i++) {\n",
       "      const url = css_urls[i];\n",
       "      const element = document.createElement(\"link\");\n",
       "      element.onload = on_load;\n",
       "      element.onerror = on_error.bind(null, url);\n",
       "      element.rel = \"stylesheet\";\n",
       "      element.type = \"text/css\";\n",
       "      element.href = url;\n",
       "      console.debug(\"Bokeh: injecting link tag for BokehJS stylesheet: \", url);\n",
       "      document.body.appendChild(element);\n",
       "    }\n",
       "\n",
       "    const hashes = {\"https://cdn.bokeh.org/bokeh/release/bokeh-2.3.2.min.js\": \"XypntL49z55iwGVUW4qsEu83zKL3XEcz0MjuGOQ9SlaaQ68X/g+k1FcioZi7oQAc\", \"https://cdn.bokeh.org/bokeh/release/bokeh-tables-2.3.2.min.js\": \"bEsM86IHGDTLCS0Zod8a8WM6Y4+lafAL/eSiyQcuPzinmWNgNO2/olUF0Z2Dkn5i\", \"https://cdn.bokeh.org/bokeh/release/bokeh-widgets-2.3.2.min.js\": \"TX0gSQTdXTTeScqxj6PVQxTiRW8DOoGVwinyi1D3kxv7wuxQ02XkOxv0xwiypcAH\"};\n",
       "\n",
       "    for (let i = 0; i < js_urls.length; i++) {\n",
       "      const url = js_urls[i];\n",
       "      const element = document.createElement('script');\n",
       "      element.onload = on_load;\n",
       "      element.onerror = on_error.bind(null, url);\n",
       "      element.async = false;\n",
       "      element.src = url;\n",
       "      if (url in hashes) {\n",
       "        element.crossOrigin = \"anonymous\";\n",
       "        element.integrity = \"sha384-\" + hashes[url];\n",
       "      }\n",
       "      console.debug(\"Bokeh: injecting script tag for BokehJS library: \", url);\n",
       "      document.head.appendChild(element);\n",
       "    }\n",
       "  };\n",
       "\n",
       "  function inject_raw_css(css) {\n",
       "    const element = document.createElement(\"style\");\n",
       "    element.appendChild(document.createTextNode(css));\n",
       "    document.body.appendChild(element);\n",
       "  }\n",
       "\n",
       "  \n",
       "  var js_urls = [\"https://cdn.bokeh.org/bokeh/release/bokeh-2.3.2.min.js\", \"https://cdn.bokeh.org/bokeh/release/bokeh-widgets-2.3.2.min.js\", \"https://cdn.bokeh.org/bokeh/release/bokeh-tables-2.3.2.min.js\"];\n",
       "  var css_urls = [];\n",
       "  \n",
       "\n",
       "  var inline_js = [\n",
       "    function(Bokeh) {\n",
       "      Bokeh.set_log_level(\"info\");\n",
       "    },\n",
       "    function(Bokeh) {\n",
       "    \n",
       "    \n",
       "    }\n",
       "  ];\n",
       "\n",
       "  function run_inline_js() {\n",
       "    \n",
       "    if (root.Bokeh !== undefined || force === true) {\n",
       "      \n",
       "    for (var i = 0; i < inline_js.length; i++) {\n",
       "      inline_js[i].call(root, root.Bokeh);\n",
       "    }\n",
       "    if (force === true) {\n",
       "        display_loaded();\n",
       "      }} else if (Date.now() < root._bokeh_timeout) {\n",
       "      setTimeout(run_inline_js, 100);\n",
       "    } else if (!root._bokeh_failed_load) {\n",
       "      console.log(\"Bokeh: BokehJS failed to load within specified timeout.\");\n",
       "      root._bokeh_failed_load = true;\n",
       "    } else if (force !== true) {\n",
       "      var cell = $(document.getElementById(\"1001\")).parents('.cell').data().cell;\n",
       "      cell.output_area.append_execute_result(NB_LOAD_WARNING)\n",
       "    }\n",
       "\n",
       "  }\n",
       "\n",
       "  if (root._bokeh_is_loading === 0) {\n",
       "    console.debug(\"Bokeh: BokehJS loaded, going straight to plotting\");\n",
       "    run_inline_js();\n",
       "  } else {\n",
       "    load_libs(css_urls, js_urls, function() {\n",
       "      console.debug(\"Bokeh: BokehJS plotting callback run at\", now());\n",
       "      run_inline_js();\n",
       "    });\n",
       "  }\n",
       "}(window));"
      ],
      "application/vnd.bokehjs_load.v0+json": "\n(function(root) {\n  function now() {\n    return new Date();\n  }\n\n  var force = true;\n\n  if (typeof root._bokeh_onload_callbacks === \"undefined\" || force === true) {\n    root._bokeh_onload_callbacks = [];\n    root._bokeh_is_loading = undefined;\n  }\n\n  \n\n  \n  if (typeof (root._bokeh_timeout) === \"undefined\" || force === true) {\n    root._bokeh_timeout = Date.now() + 5000;\n    root._bokeh_failed_load = false;\n  }\n\n  var NB_LOAD_WARNING = {'data': {'text/html':\n     \"<div style='background-color: #fdd'>\\n\"+\n     \"<p>\\n\"+\n     \"BokehJS does not appear to have successfully loaded. If loading BokehJS from CDN, this \\n\"+\n     \"may be due to a slow or bad network connection. Possible fixes:\\n\"+\n     \"</p>\\n\"+\n     \"<ul>\\n\"+\n     \"<li>re-rerun `output_notebook()` to attempt to load from CDN again, or</li>\\n\"+\n     \"<li>use INLINE resources instead, as so:</li>\\n\"+\n     \"</ul>\\n\"+\n     \"<code>\\n\"+\n     \"from bokeh.resources import INLINE\\n\"+\n     \"output_notebook(resources=INLINE)\\n\"+\n     \"</code>\\n\"+\n     \"</div>\"}};\n\n  function display_loaded() {\n    var el = document.getElementById(\"1001\");\n    if (el != null) {\n      el.textContent = \"BokehJS is loading...\";\n    }\n    if (root.Bokeh !== undefined) {\n      if (el != null) {\n        el.textContent = \"BokehJS \" + root.Bokeh.version + \" successfully loaded.\";\n      }\n    } else if (Date.now() < root._bokeh_timeout) {\n      setTimeout(display_loaded, 100)\n    }\n  }\n\n\n  function run_callbacks() {\n    try {\n      root._bokeh_onload_callbacks.forEach(function(callback) {\n        if (callback != null)\n          callback();\n      });\n    } finally {\n      delete root._bokeh_onload_callbacks\n    }\n    console.debug(\"Bokeh: all callbacks have finished\");\n  }\n\n  function load_libs(css_urls, js_urls, callback) {\n    if (css_urls == null) css_urls = [];\n    if (js_urls == null) js_urls = [];\n\n    root._bokeh_onload_callbacks.push(callback);\n    if (root._bokeh_is_loading > 0) {\n      console.debug(\"Bokeh: BokehJS is being loaded, scheduling callback at\", now());\n      return null;\n    }\n    if (js_urls == null || js_urls.length === 0) {\n      run_callbacks();\n      return null;\n    }\n    console.debug(\"Bokeh: BokehJS not loaded, scheduling load and callback at\", now());\n    root._bokeh_is_loading = css_urls.length + js_urls.length;\n\n    function on_load() {\n      root._bokeh_is_loading--;\n      if (root._bokeh_is_loading === 0) {\n        console.debug(\"Bokeh: all BokehJS libraries/stylesheets loaded\");\n        run_callbacks()\n      }\n    }\n\n    function on_error(url) {\n      console.error(\"failed to load \" + url);\n    }\n\n    for (let i = 0; i < css_urls.length; i++) {\n      const url = css_urls[i];\n      const element = document.createElement(\"link\");\n      element.onload = on_load;\n      element.onerror = on_error.bind(null, url);\n      element.rel = \"stylesheet\";\n      element.type = \"text/css\";\n      element.href = url;\n      console.debug(\"Bokeh: injecting link tag for BokehJS stylesheet: \", url);\n      document.body.appendChild(element);\n    }\n\n    const hashes = {\"https://cdn.bokeh.org/bokeh/release/bokeh-2.3.2.min.js\": \"XypntL49z55iwGVUW4qsEu83zKL3XEcz0MjuGOQ9SlaaQ68X/g+k1FcioZi7oQAc\", \"https://cdn.bokeh.org/bokeh/release/bokeh-tables-2.3.2.min.js\": \"bEsM86IHGDTLCS0Zod8a8WM6Y4+lafAL/eSiyQcuPzinmWNgNO2/olUF0Z2Dkn5i\", \"https://cdn.bokeh.org/bokeh/release/bokeh-widgets-2.3.2.min.js\": \"TX0gSQTdXTTeScqxj6PVQxTiRW8DOoGVwinyi1D3kxv7wuxQ02XkOxv0xwiypcAH\"};\n\n    for (let i = 0; i < js_urls.length; i++) {\n      const url = js_urls[i];\n      const element = document.createElement('script');\n      element.onload = on_load;\n      element.onerror = on_error.bind(null, url);\n      element.async = false;\n      element.src = url;\n      if (url in hashes) {\n        element.crossOrigin = \"anonymous\";\n        element.integrity = \"sha384-\" + hashes[url];\n      }\n      console.debug(\"Bokeh: injecting script tag for BokehJS library: \", url);\n      document.head.appendChild(element);\n    }\n  };\n\n  function inject_raw_css(css) {\n    const element = document.createElement(\"style\");\n    element.appendChild(document.createTextNode(css));\n    document.body.appendChild(element);\n  }\n\n  \n  var js_urls = [\"https://cdn.bokeh.org/bokeh/release/bokeh-2.3.2.min.js\", \"https://cdn.bokeh.org/bokeh/release/bokeh-widgets-2.3.2.min.js\", \"https://cdn.bokeh.org/bokeh/release/bokeh-tables-2.3.2.min.js\"];\n  var css_urls = [];\n  \n\n  var inline_js = [\n    function(Bokeh) {\n      Bokeh.set_log_level(\"info\");\n    },\n    function(Bokeh) {\n    \n    \n    }\n  ];\n\n  function run_inline_js() {\n    \n    if (root.Bokeh !== undefined || force === true) {\n      \n    for (var i = 0; i < inline_js.length; i++) {\n      inline_js[i].call(root, root.Bokeh);\n    }\n    if (force === true) {\n        display_loaded();\n      }} else if (Date.now() < root._bokeh_timeout) {\n      setTimeout(run_inline_js, 100);\n    } else if (!root._bokeh_failed_load) {\n      console.log(\"Bokeh: BokehJS failed to load within specified timeout.\");\n      root._bokeh_failed_load = true;\n    } else if (force !== true) {\n      var cell = $(document.getElementById(\"1001\")).parents('.cell').data().cell;\n      cell.output_area.append_execute_result(NB_LOAD_WARNING)\n    }\n\n  }\n\n  if (root._bokeh_is_loading === 0) {\n    console.debug(\"Bokeh: BokehJS loaded, going straight to plotting\");\n    run_inline_js();\n  } else {\n    load_libs(css_urls, js_urls, function() {\n      console.debug(\"Bokeh: BokehJS plotting callback run at\", now());\n      run_inline_js();\n    });\n  }\n}(window));"
     },
     "metadata": {},
     "output_type": "display_data"
    }
   ],
   "source": [
    "import time\n",
    "\n",
    "import serial\n",
    "import serial.tools.list_ports\n",
    "\n",
    "import bokeh.layouts\n",
    "import bokeh.models\n",
    "import bokeh.io\n",
    "\n",
    "notebook_url = \"localhost:8888\"\n",
    "bokeh.io.output_notebook()"
   ]
  },
  {
   "cell_type": "markdown",
   "metadata": {},
   "source": [
    "<hr>\n",
    "\n",
    "In this lesson, we introduce control of external devices using a serial connection. The important package for this purpose is [PySerial](https://pythonhosted.org/pyserial/), which you can install if you haven't already using\n",
    "\n",
    "    conda install pyserial\n",
    "    \n",
    "It enables communication with devices over a serial port, often a USB port. When you import it, you import it by the name `serial`.\n",
    "\n",
    "*Because this lesson connects to a physical device, it really must be run in a live Jupyter notebook with a device connected.*"
   ]
  },
  {
   "cell_type": "markdown",
   "metadata": {},
   "source": [
    "## Arduino\n",
    "\n",
    "Of course to do this tutorial, we should have an actual device with which to communicate. Therefore, I encourage you to actually build the device below and connect it to your computer and work through this lesson running a live Jupyter notebook.\n",
    "\n",
    "For our device in this example, we will use an [Arduino Uno board](https://store.arduino.cc/usa/arduino-uno-rev3). These ≈$20 boards offer great functionality and are fun to just play with. Beyond, that, they are actually quite useful in research applications and have widespread use in research labs across disciplines, including in the biological sciences.\n",
    "\n",
    "We will use our board with a simple circuit, shown below.\n",
    "\n",
    "<div style=\"margin: auto; width: 400px;\">\n",
    "\n",
    "![Arduino](arduino_setup.svg)\n",
    "    \n",
    "</div>\n",
    "\n",
    "At the left of the Arduino Uno board in the drawing is a USB-A port, which you should connect to your computer. The breadboard features a potentiometer, whose output is connected to analog input pin A0, and two LEDs that are controlled by digital pins 2 and 6. The LEDs are connected to ground via 220 Ω resistors. We will demonstrate how to communicate with Arduino via Python by reading voltages from pin A0 and by turning the LEDs on and off.\n",
    "\n",
    "The Arduino board is loaded with compiled code written in a flavor of C++. The code for this circuit is shown below. The code basically tells Arduino which pins do what, and then listens for signals coming from its serial connection. Based on what signal it gets, it will either send the measurement of voltage out the serial connection or turn the LEDs on or off. (We will not go over how to code Arduino in this bootcamp, but rather focus on how to interface with an external device using Python.)\n",
    "\n",
    "```C++\n",
    "const int voltagePin = A0;\n",
    "\n",
    "const int redLEDPin = 6;\n",
    "const int greenLEDPin = 2;\n",
    "\n",
    "const int HANDSHAKE = 0;\n",
    "const int VOLTAGE_REQUEST = 1;\n",
    "const int RED_LED_ON = 2;\n",
    "const int RED_LED_OFF = 3;\n",
    "const int GREEN_LED_ON = 4;\n",
    "const int GREEN_LED_OFF = 5;\n",
    "\n",
    "const int ON_REQUEST = 6;\n",
    "const int STREAM = 7;\n",
    "const int READ_DAQ_DELAY = 8;\n",
    "\n",
    "String daqDelayStr;\n",
    "\n",
    "int inByte = 0;\n",
    "int daqMode = ON_REQUEST;\n",
    "int daqDelay = 100;   // delay between acquisitions in milliseconds\n",
    "\n",
    "int value;\n",
    "unsigned long time_ms;\n",
    "\n",
    "\n",
    "void printVoltage() {\n",
    "  // read value from analog pin\n",
    "  value = analogRead(voltagePin);\n",
    "  time_ms = millis();\n",
    "  \n",
    "  // Write the result\n",
    "  if (Serial.availableForWrite()) {\n",
    "    String outstr = String(String(time_ms, DEC) + \",\" + String(value, DEC));\n",
    "    Serial.println(outstr);\n",
    "  }\n",
    "}\n",
    "\n",
    "\n",
    "void setup() {\n",
    "  // Set LEDs to off\n",
    "  pinMode(redLEDPin, OUTPUT);\n",
    "  pinMode(greenLEDPin, OUTPUT);\n",
    "  digitalWrite(redLEDPin, LOW);\n",
    "  digitalWrite(greenLEDPin, LOW);\n",
    "\n",
    "  // initialize serial communication\n",
    "  Serial.begin(115200);\n",
    "}\n",
    "\n",
    "\n",
    "void loop() {\n",
    "  // If we're auto-transferring data (streaming mode)\n",
    "  if (daqMode == STREAM) {\n",
    "    printVoltage();\n",
    "    delay(daqDelay);     \n",
    "  }\n",
    "\n",
    "  // Check if data has been sent to Arduino and respond accordingly\n",
    "  if (Serial.available() > 0) {\n",
    "    // Read in request\n",
    "    inByte = Serial.read();\n",
    "    \n",
    "    // Handshake\n",
    "    if (inByte == HANDSHAKE){\n",
    "      if (Serial.availableForWrite()) {\n",
    "          Serial.println(\"Handshake message received.\");\n",
    "      }\n",
    "    }\n",
    "    \n",
    "    // If data is requested, fetch it and write it\n",
    "    else if (inByte == VOLTAGE_REQUEST) printVoltage();\n",
    "\n",
    "    // Switch daqMode\n",
    "    else if (inByte == ON_REQUEST) daqMode = ON_REQUEST;\n",
    "    else if (inByte == STREAM) daqMode = STREAM;\n",
    "\n",
    "    // Read in DAQ delay\n",
    "    else if (inByte == READ_DAQ_DELAY) {\n",
    "      while (Serial.available() == 0) ;\n",
    "      daqDelayStr = Serial.readStringUntil('x');\n",
    "      daqDelay = daqDelayStr.toInt();\n",
    "    }\n",
    "\n",
    "    // else, turn LEDs on or off\n",
    "    else if (inByte == RED_LED_ON) digitalWrite(redLEDPin, HIGH);\n",
    "    else if (inByte == RED_LED_OFF) digitalWrite(redLEDPin, LOW);\n",
    "    else if (inByte == GREEN_LED_ON) digitalWrite(greenLEDPin, HIGH);\n",
    "    else if (inByte == GREEN_LED_OFF) digitalWrite(greenLEDPin, LOW);\n",
    "  }\n",
    "}\n",
    "```\n",
    "\n",
    "According to this code, if we send integers over the serial connection to Arduino, it will behave according to the table below.\n",
    "\n",
    "|signal to Arduino | action|\n",
    "|-----|-----|\n",
    "|0|Handshake (establish and check connection with Arduino)|\n",
    "|1|Send voltage from port A0|\n",
    "|2|Turn red LED on|\n",
    "|3|Turn red LED off|\n",
    "|4|Turn green LED on|\n",
    "|5|Turn green LED off|\n",
    "|6|Toggle data acquisition mode to on request|\n",
    "|7|Toggle data acquisition mode to stream|\n",
    "|8|Alert Arduino that the next input is streaming delay|\n",
    "\n",
    "For the rest of this lesson, we will assume you have an Arduino connected to your machine configured as in the photo above, with the above Arduino code loaded in.\n",
    "\n",
    "For convenience, we can declare variables matching these integer codes for this notebook."
   ]
  },
  {
   "cell_type": "code",
   "execution_count": 2,
   "metadata": {},
   "outputs": [],
   "source": [
    "HANDSHAKE = 0\n",
    "VOLTAGE_REQUEST = 1\n",
    "RED_LED_ON = 2\n",
    "RED_LED_OFF = 3\n",
    "GREEN_LED_ON = 4\n",
    "GREEN_LED_OFF = 5\n",
    "ON_REQUEST = 6\n",
    "STREAM = 7\n",
    "READ_DAQ_DELAY = 8"
   ]
  },
  {
   "cell_type": "markdown",
   "metadata": {},
   "source": [
    "Arduino will send data back to us in one of two modes, either on demand or as a stream. For on-demand data, it waits until it gets a signal from Python asking for data and then sends the time stamp and the voltage measured at analog input A0. For streaming data, it automatically sends data with a specified delay between data points."
   ]
  },
  {
   "cell_type": "markdown",
   "metadata": {},
   "source": [
    "## Finding the port\n",
    "\n",
    "With your Arduino plugged into your computer via a USB connection, you first need to find out which port it is. The names of the ports will differ based on your operating system and when you plugged it in (your OS may assign the ports different names). You can get a list of ports using the `serial.tools.list_ports.comports()` function."
   ]
  },
  {
   "cell_type": "code",
   "execution_count": 3,
   "metadata": {},
   "outputs": [
    {
     "data": {
      "text/plain": [
       "[<serial.tools.list_ports_common.ListPortInfo at 0x7f8b4538ddf0>,\n",
       " <serial.tools.list_ports_common.ListPortInfo at 0x7f8b4538d220>]"
      ]
     },
     "execution_count": 3,
     "metadata": {},
     "output_type": "execute_result"
    }
   ],
   "source": [
    "ports = serial.tools.list_ports.comports()\n",
    "\n",
    "# Take a look\n",
    "ports"
   ]
  },
  {
   "cell_type": "markdown",
   "metadata": {},
   "source": [
    "On my machine, there are two ports open. We can look at the manufacturer of the devices attached to the ports to find Arduino."
   ]
  },
  {
   "cell_type": "code",
   "execution_count": 4,
   "metadata": {},
   "outputs": [
    {
     "data": {
      "text/plain": [
       "[None, 'Arduino (www.arduino.cc)']"
      ]
     },
     "execution_count": 4,
     "metadata": {},
     "output_type": "execute_result"
    }
   ],
   "source": [
    "[port.manufacturer for port in ports]"
   ]
  },
  {
   "cell_type": "markdown",
   "metadata": {},
   "source": [
    "Clearly, the second port is Arduino. We can get then get a string for the port associated with the device."
   ]
  },
  {
   "cell_type": "code",
   "execution_count": 5,
   "metadata": {},
   "outputs": [
    {
     "data": {
      "text/plain": [
       "'/dev/cu.usbmodem141101'"
      ]
     },
     "execution_count": 5,
     "metadata": {},
     "output_type": "execute_result"
    }
   ],
   "source": [
    "ports[1].device"
   ]
  },
  {
   "cell_type": "markdown",
   "metadata": {},
   "source": [
    "On Windows, the manufacturer might not appear as Arduino. In this case, you should take a look at the devices for each port."
   ]
  },
  {
   "cell_type": "code",
   "execution_count": 6,
   "metadata": {},
   "outputs": [
    {
     "data": {
      "text/plain": [
       "['/dev/cu.Bluetooth-Incoming-Port', '/dev/cu.usbmodem141101']"
      ]
     },
     "execution_count": 6,
     "metadata": {},
     "output_type": "execute_result"
    }
   ],
   "source": [
    "[port.device for port in ports]"
   ]
  },
  {
   "cell_type": "markdown",
   "metadata": {},
   "source": [
    "The appropriate port for Windows will be something like `'COM3'`.\n",
    "\n",
    "For convenience, we can write a function to find Arduino. Called without arguments, it will give the port for Arduino if the manufacturer comes up as Arduino in the query. Otherwise, you can provide a string (like `'COM7'`) for the port, and it will connect to that port."
   ]
  },
  {
   "cell_type": "code",
   "execution_count": 7,
   "metadata": {},
   "outputs": [],
   "source": [
    "def find_arduino(port=None):\n",
    "    \"\"\"Get the name of the port that is connected to Arduino.\"\"\"\n",
    "    if port is None:\n",
    "        ports = serial.tools.list_ports.comports()\n",
    "        for p in ports:\n",
    "            if p.manufacturer is not None and \"Arduino\" in p.manufacturer:\n",
    "                port = p.device\n",
    "    return port"
   ]
  },
  {
   "cell_type": "markdown",
   "metadata": {},
   "source": [
    "We’ll use it to get the port for Arduino. (Note that you may need to explicitly give the port, especially if you are using Windows.)"
   ]
  },
  {
   "cell_type": "code",
   "execution_count": 8,
   "metadata": {},
   "outputs": [],
   "source": [
    "port = find_arduino()"
   ]
  },
  {
   "cell_type": "markdown",
   "metadata": {},
   "source": [
    "## Opening a connection\n",
    "\n",
    "When opening a connection with Python, you cannot have the Serial Monitor nor Serial Plotter of the Arduino IDE open, since they will keep the port busy and Python cannot communicate with Arduino.\n",
    "\n",
    "To open a connection to the device, we instantiate a `serial.Serial` instance. When a port is first opened, there is some handshaking between the device and the computer that needs to happen. To be safe, I always close the port and reopen it to get an open port, and then wait one second using `time.sleep()` before I send or receive data from it. I then send and receive data packets. The first input/output from Arduino Uno board is nonsense (unique to that board, I think). I then send and receive a handshake message again to make sure everything is working properly."
   ]
  },
  {
   "cell_type": "code",
   "execution_count": 9,
   "metadata": {},
   "outputs": [
    {
     "name": "stdout",
     "output_type": "stream",
     "text": [
      "Handshake message: Handshake message received.\n",
      "\n"
     ]
    }
   ],
   "source": [
    "# Open port\n",
    "arduino = serial.Serial(port, baudrate=115200, timeout=1)\n",
    "\n",
    "\n",
    "def handshake_arduino(\n",
    "    arduino, sleep_time=1, print_handshake_message=False, handshake_code=0\n",
    "):\n",
    "    \"\"\"Make sure connection is established by sending\n",
    "    and receiving bytes.\"\"\"\n",
    "    # Close and reopen\n",
    "    arduino.close()\n",
    "    arduino.open()\n",
    "\n",
    "    # Chill out while everything gets set\n",
    "    time.sleep(sleep_time)\n",
    "\n",
    "    # Set a long timeout to complete handshake\n",
    "    timeout = arduino.timeout\n",
    "    arduino.timeout = 2\n",
    "\n",
    "    # Read and discard everything that may be in the input buffer\n",
    "    _ = arduino.read_all()\n",
    "\n",
    "    # Send request to Arduino\n",
    "    arduino.write(bytes([handshake_code]))\n",
    "\n",
    "    # Read in what Arduino sent\n",
    "    handshake_message = arduino.read_until()\n",
    "\n",
    "    # Send and receive request again\n",
    "    arduino.write(bytes([handshake_code]))\n",
    "    handshake_message = arduino.read_until()\n",
    "\n",
    "    # Print the handshake message, if desired\n",
    "    if print_handshake_message:\n",
    "        print(\"Handshake message: \" + handshake_message.decode())\n",
    "\n",
    "    # Reset the timeout\n",
    "    arduino.timeout = timeout\n",
    "\n",
    "\n",
    "# Call the handshake function\n",
    "handshake_arduino(arduino, print_handshake_message=True, handshake_code=HANDSHAKE)"
   ]
  },
  {
   "cell_type": "markdown",
   "metadata": {},
   "source": [
    "A few comments about the above code, bearing in mind that the Python variable `arduino` is a `serial.Serial` instance.\n",
    "\n",
    "- The `arduino.timeout` attribute sets the maximum time in seconds to wait for serial communication.\n",
    "- To handshake, we need to send code `0` to the Arduino. It must be sent as bytes, machine numbers Arduino can understand. To convert an integer to bytes in Python, we use the built-in `bytes()` function. It accepts an iterable (like a list of tuple) of `int`s and converts them to bytes. So, the signal we would send for code `0` is `bytes([0])`.\n",
    "- The `arduino.read_all()` function reads all bytes that are in the input buffer on the Python side.\n",
    "- The `arduino.read_until()` function reads from the input buffer on the Python side until a newline character is encountered. This is convenient because the Python interpreter moves along way faster than Arduino can perform calculations and write data over USB. By asking Python to read until it hits a newline character, it has to wait until the complete message is sent by Arduino.\n",
    "- The message sent from Arduino is a `bytesarray`. To convert it to a string, use the `decode()` method, as we did with `handshake_message.decode()` in the above function.\n",
    "\n",
    "The port is currently open, and I'm not going to anything with it now, so I am going to close it. This is very important: *Make sure you close your serial connection when you are done with it.*"
   ]
  },
  {
   "cell_type": "code",
   "execution_count": 10,
   "metadata": {},
   "outputs": [],
   "source": [
    "arduino.close()"
   ]
  },
  {
   "cell_type": "markdown",
   "metadata": {},
   "source": [
    "When possible, it is good practice to instead use context management when opening a serial connection. That way, it is always guaranteed to close, even when things may go awry."
   ]
  },
  {
   "cell_type": "code",
   "execution_count": 11,
   "metadata": {},
   "outputs": [],
   "source": [
    "with serial.Serial(port, baudrate=115200, timeout=1) as arduino:\n",
    "    handshake_arduino(arduino)\n",
    "    \n",
    "    # And the rest of what you want to do follows...."
   ]
  },
  {
   "cell_type": "markdown",
   "metadata": {},
   "source": [
    "## \"Hello, world,\" a.k.a. turning on an LED\n",
    "\n",
    "The \"Hello, world\" of electronic circuits is turning on an LED. To turn on the red LED, we need to send code `2` to the Arduino. It must be sent as bytes, machine numbers Arduino can understand. So, the signal we would send for code `2` is:"
   ]
  },
  {
   "cell_type": "code",
   "execution_count": 12,
   "metadata": {},
   "outputs": [
    {
     "data": {
      "text/plain": [
       "b'\\x02'"
      ]
     },
     "execution_count": 12,
     "metadata": {},
     "output_type": "execute_result"
    }
   ],
   "source": [
    "bytes([2])"
   ]
  },
  {
   "cell_type": "markdown",
   "metadata": {},
   "source": [
    "Let's open up a port to Arduino and send a signal to turn on the red LED. "
   ]
  },
  {
   "cell_type": "code",
   "execution_count": 13,
   "metadata": {},
   "outputs": [],
   "source": [
    "with serial.Serial(port, baudrate=115200, timeout=1) as arduino:\n",
    "    handshake_arduino(arduino)\n",
    "    \n",
    "    # Turn on the red LED\n",
    "    arduino.write(bytes([RED_LED_ON]))"
   ]
  },
  {
   "cell_type": "markdown",
   "metadata": {},
   "source": [
    "Now that we know how to turn an LED on (and off), we can make a little disco party!"
   ]
  },
  {
   "cell_type": "code",
   "execution_count": 14,
   "metadata": {},
   "outputs": [],
   "source": [
    "with serial.Serial(port, baudrate=115200, timeout=1) as arduino:\n",
    "    handshake_arduino(arduino)\n",
    "    \n",
    "    # Flash the LEDs\n",
    "    for _ in range(40):\n",
    "        arduino.write(bytes([RED_LED_ON]))\n",
    "        time.sleep(0.05)\n",
    "        arduino.write(bytes([GREEN_LED_ON]))\n",
    "        time.sleep(0.05)\n",
    "        arduino.write(bytes([RED_LED_OFF]))\n",
    "        time.sleep(0.05)\n",
    "        arduino.write(bytes([GREEN_LED_OFF]))\n",
    "        time.sleep(0.05)"
   ]
  },
  {
   "cell_type": "markdown",
   "metadata": {},
   "source": [
    "## Controlling Arduino with widgets\n",
    "\n",
    "While calling a function to send and retrieve data from an external device (in this case our Arduino board) is useful, it is more convenient to enable control of the device using widgets.\n",
    "\n",
    "To do so, we need to open the connection to the Arduino and leave it open (outside of context management). Since we will want to open and close these ports manually, including having all of the (un)pleasantries of connecting and sending and receiving the first few test packets of data, we will write a function to give us an open serial connection to the Arduino (knowing of course that we will need to close it)."
   ]
  },
  {
   "cell_type": "code",
   "execution_count": 15,
   "metadata": {},
   "outputs": [],
   "source": [
    "def open_arduino(port, baudrate=115200, timeout=1):\n",
    "    \"\"\"Open a connection with an Arduino device and\n",
    "    handshake to get ready for use.\"\"\"\n",
    "    # Open port\n",
    "    arduino = serial.Serial(port, baudrate=baudrate, timeout=timeout)\n",
    "\n",
    "    # Close and reopen\n",
    "    arduino.close()\n",
    "    arduino.open()\n",
    "\n",
    "    handshake_arduino(arduino)\n",
    "    \n",
    "    return arduino"
   ]
  },
  {
   "cell_type": "markdown",
   "metadata": {},
   "source": [
    "Let's go ahead and open the connection."
   ]
  },
  {
   "cell_type": "code",
   "execution_count": 16,
   "metadata": {},
   "outputs": [],
   "source": [
    "arduino = open_arduino(port)"
   ]
  },
  {
   "cell_type": "markdown",
   "metadata": {},
   "source": [
    "### Widgets and callbacks\n",
    "\n",
    "As a first step in setting up control of the device, we will make toggle buttons to turn the red and green LEDs on and off. We can make the buttons using `pn.widgets.Toggle()`, but instead we will directly use Bokeh widgets. We do this because connecting to streaming data, which we will do in the next lesson, is a bit easier using base Bokeh. Bokeh apps are also more configurable and can have better performance because of less overhead.\n",
    "\n",
    "To build a Bokeh app to use in a Jupyter notebook, we need to write a function of with call signature `app(doc)`. Within that function, we build the elements we want in the app, in this case just the toggle and its callback. Once those elements are defined, they need to be added to the doc using `doc.add_root()`. The code below accomplishes this."
   ]
  },
  {
   "cell_type": "code",
   "execution_count": 17,
   "metadata": {},
   "outputs": [],
   "source": [
    "def LED_app(doc):\n",
    "    \"\"\"Make a toggle for turning LEDs on and off\"\"\"\n",
    "\n",
    "    def red_callback(attr, old, new):\n",
    "        if new:\n",
    "            arduino.write(bytes([RED_LED_ON]))\n",
    "        else:\n",
    "            arduino.write(bytes([RED_LED_OFF]))\n",
    "\n",
    "    def green_callback(attr, old, new):\n",
    "        if new:\n",
    "            arduino.write(bytes([GREEN_LED_ON]))\n",
    "        else:\n",
    "            arduino.write(bytes([GREEN_LED_OFF]))\n",
    "\n",
    "    # Set up toggles\n",
    "    red_LED_toggle = bokeh.models.Toggle(\n",
    "        label=\"Red LED\", button_type=\"danger\", width=100,\n",
    "    )\n",
    "    green_LED_toggle = bokeh.models.Toggle(\n",
    "        label=\"Green LED\", button_type=\"success\", width=100,\n",
    "    )\n",
    "\n",
    "    # Link callbacks\n",
    "    red_LED_toggle.on_change(\"active\", red_callback)\n",
    "    green_LED_toggle.on_change(\"active\", green_callback)\n",
    "\n",
    "    # Lay out the toggles\n",
    "    layout = bokeh.layouts.row(\n",
    "        red_LED_toggle, bokeh.layouts.Spacer(width=15), green_LED_toggle\n",
    "    )\n",
    "\n",
    "    doc.add_root(layout)"
   ]
  },
  {
   "cell_type": "markdown",
   "metadata": {},
   "source": [
    "Some comments:\n",
    "\n",
    "- We use the `on_change()` method of a toggle widget. The callback function for on-change behavior must have call signature `callback(attr, old, new)`, where `attr` is an attribute of the widget, `old` is the pre-change value of that attribute, and `new` is the post-change value of the attribute.\n",
    "- We instantiate a toggle with `bokeh.models.Toggle`. Instead of `name` like we would use with Panel, we use the kwarg `label`.\n",
    "- A toggle has an `active` attribute, which is `True` when the toggle is on and `False` when off. Whenever that value changes, the callback is triggered.\n",
    "- We use `button_type=\"danger\"` to give us a red button and `button_type=\"success\"` to give us a green button.\n",
    "\n",
    "To view the widget in the notebook, use `bokeh.io.show()`. Note that we called `bokeh.io.output_notebook()` earlier in this notebook, which means that the app will display in the notebook. We also defined the `notebook_url`, which can be found by looking in your browser’s address bar. In my case, the `notebook_url` is `\"localhost:8888\"`. Note also that Bokeh apps will not be displayed in the static HTML rendering of this notebook, so if you are reading this from the course website, you will see no output from the cell below."
   ]
  },
  {
   "cell_type": "code",
   "execution_count": 18,
   "metadata": {},
   "outputs": [
    {
     "data": {
      "application/vnd.bokehjs_exec.v0+json": "",
      "text/html": [
       "\n",
       "<script id=\"1002\">\n",
       "  var xhr = new XMLHttpRequest()\n",
       "  xhr.responseType = 'blob';\n",
       "  xhr.open('GET', \"http://localhost:64090/autoload.js?bokeh-autoload-element=1002&bokeh-absolute-url=http://localhost:64090&resources=none\", true);\n",
       "  \n",
       "  xhr.onload = function (event) {\n",
       "    var script = document.createElement('script'),\n",
       "    src = URL.createObjectURL(event.target.response);\n",
       "    script.src = src;\n",
       "    document.body.appendChild(script);\n",
       "  };\n",
       "xhr.send();\n",
       "</script>"
      ]
     },
     "metadata": {
      "application/vnd.bokehjs_exec.v0+json": {
       "server_id": "0127b1a7a3cc417fac20572ebc2417b1"
      }
     },
     "output_type": "display_data"
    }
   ],
   "source": [
    "bokeh.io.show(LED_app, notebook_url=notebook_url)"
   ]
  },
  {
   "cell_type": "markdown",
   "metadata": {},
   "source": [
    "The LEDs on the Arduino can then be toggled using those two buttons.\n",
    "\n",
    "As we shift gears to retrieving data from Arduino, we will keep the port open."
   ]
  },
  {
   "cell_type": "markdown",
   "metadata": {},
   "source": [
    "## Retrieving data from Arduino\n",
    "\n",
    "So far, we have used our serial connection to toggle LEDs on and off, but ultimately, we would like to receive data from the device. To do this, we can send data requests and then read what comes back.\n",
    "\n",
    "Based on the above Arduino code, when we are in ON_REQUEST mode, Ardunio waits for a request for data to come through its serial connection to the computer. Upon receipt of a request, it sends data back. The time and voltage data come in as a [byte string](https://docs.python.org/3/library/stdtypes.html#bytes) (Python data type `bytes`) containing the time and voltage separated by a comma. The byte string ends with both a carriage return (`\\r`) and a newline (`\\n`). To convert the byte string to numbers, we need to strip the carriage return and newline and decode the byte string into the Python strings we are used to using the `decode()` method. Finally, we can split the resulting string at the comma to get the voltage and time point for each.\n",
    "\n",
    "Arduino values from analog inputs are 10 bit unsigned integers, with values ranging from 0 to 1023. So, when the voltage is written out, it will be an integer, which we need to convert to a voltage, knowing that the voltage on the Arduino Uno goes from zero to five volts. The time stamps are in milliseconds, transmitted as 32-bit unsigned integers. So, we should convert the voltage number we receive to Volts. The function below parses a byte string sent from Arduino."
   ]
  },
  {
   "cell_type": "code",
   "execution_count": 19,
   "metadata": {},
   "outputs": [],
   "source": [
    "def parse_raw(raw):\n",
    "    \"\"\"Parse bytes output from Arduino.\"\"\"\n",
    "    raw = raw.decode()\n",
    "    if raw[-1] != \"\\n\":\n",
    "        raise ValueError(\n",
    "            \"Input must end with newline, otherwise message is incomplete.\"\n",
    "        )\n",
    "\n",
    "    t, V = raw.rstrip().split(\",\")\n",
    "\n",
    "    return int(t), int(V) * 5 / 1023"
   ]
  },
  {
   "cell_type": "markdown",
   "metadata": {},
   "source": [
    "We can make a button that requests data from Arduino when pressed. We will link it to a function that sends a request and gets data, appending the results to lists. First, we'll set up the data acquisition function. It must take a single argument (which we will ignore) to have the correct call signature to be used when linked to a Panel button."
   ]
  },
  {
   "cell_type": "code",
   "execution_count": 20,
   "metadata": {},
   "outputs": [],
   "source": [
    "def request_single_voltage(arduino):\n",
    "    \"\"\"Ask Arduino for a single data point\"\"\"\n",
    "    # Ask Arduino for data\n",
    "    arduino.write(bytes([VOLTAGE_REQUEST]))\n",
    "\n",
    "    # Read in the data\n",
    "    raw = arduino.read_until()\n",
    "\n",
    "    # Parse and return\n",
    "    return parse_raw(raw)"
   ]
  },
  {
   "cell_type": "markdown",
   "metadata": {},
   "source": [
    "We can call the function to get single time, voltage pairs."
   ]
  },
  {
   "cell_type": "code",
   "execution_count": 21,
   "metadata": {},
   "outputs": [
    {
     "data": {
      "text/plain": [
       "(9570, 1.9012707722385143)"
      ]
     },
     "execution_count": 21,
     "metadata": {},
     "output_type": "execute_result"
    }
   ],
   "source": [
    "request_single_voltage(arduino)"
   ]
  },
  {
   "cell_type": "markdown",
   "metadata": {},
   "source": [
    "If we like, we can connect this function to a button and grab voltages and time points to store in a list. To do so, we set up the lists and then append to them in a callback. \n",
    "\n",
    "Note that a button is different from a toggle button. A toggle button stay pressed when pushed, and then stays unpressed when pushed again. This is like a power button. A button, on the other hand, just registers a click, like a mouse button. Therefore,for a button, we use an `on_click()` method instead of `on_change()` to link to the callback.\n",
    "\n",
    "Again, Bokeh apps will only appear in a running notebook, so the button below will not appear in the static rendering of this notebook."
   ]
  },
  {
   "cell_type": "code",
   "execution_count": 22,
   "metadata": {},
   "outputs": [
    {
     "data": {
      "application/vnd.bokehjs_exec.v0+json": "",
      "text/html": [
       "\n",
       "<script id=\"1014\">\n",
       "  var xhr = new XMLHttpRequest()\n",
       "  xhr.responseType = 'blob';\n",
       "  xhr.open('GET', \"http://localhost:64094/autoload.js?bokeh-autoload-element=1014&bokeh-absolute-url=http://localhost:64094&resources=none\", true);\n",
       "  \n",
       "  xhr.onload = function (event) {\n",
       "    var script = document.createElement('script'),\n",
       "    src = URL.createObjectURL(event.target.response);\n",
       "    script.src = src;\n",
       "    document.body.appendChild(script);\n",
       "  };\n",
       "xhr.send();\n",
       "</script>"
      ]
     },
     "metadata": {
      "application/vnd.bokehjs_exec.v0+json": {
       "server_id": "6d7e7d74c91344a086719732dd42b6d8"
      }
     },
     "output_type": "display_data"
    }
   ],
   "source": [
    "time_ms = []\n",
    "voltage = []\n",
    "\n",
    "def daq_app(doc):\n",
    "    \"\"\"Button for acquiring time stamp and voltage and store in lists.\"\"\"\n",
    "\n",
    "    def daq_callback(event):\n",
    "        t, V = request_single_voltage(arduino)\n",
    "        time_ms.append(t)\n",
    "        voltage.append(V)\n",
    "    \n",
    "    # Set up the button\n",
    "    daq_button = bokeh.models.Button(label=\"Acquire\", button_type=\"primary\")\n",
    "    daq_button.on_click(daq_callback)\n",
    "        \n",
    "    doc.add_root(daq_button)\n",
    "    \n",
    "    \n",
    "bokeh.io.show(daq_app, notebook_url=notebook_url)"
   ]
  },
  {
   "cell_type": "markdown",
   "metadata": {},
   "source": [
    "After hitting the button a few times (while turning the knob on the potentiometer), I got updated lists."
   ]
  },
  {
   "cell_type": "code",
   "execution_count": 23,
   "metadata": {},
   "outputs": [
    {
     "name": "stdout",
     "output_type": "stream",
     "text": [
      "time (ms)    voltage (V)\n",
      "15876        1.9012707722385143\n",
      "16411        2.0234604105571847\n",
      "16954        2.5757575757575757\n",
      "17379        1.8132942326490713\n",
      "17931        1.3343108504398826\n",
      "18499        2.482893450635386\n",
      "19093        3.6070381231671553\n",
      "19643        3.5826001955034212\n",
      "20179        2.8299120234604107\n",
      "20700        2.1896383186705766\n"
     ]
    }
   ],
   "source": [
    "print(\"time (ms)    voltage (V)\")\n",
    "for t, V in zip(time_ms, voltage):\n",
    "    print(t, '      ', V)"
   ]
  },
  {
   "cell_type": "markdown",
   "metadata": {},
   "source": [
    "Great! We have demonstrated that we can control an external device by sending signals and can retrieve data from the device as well.\n",
    "\n",
    "In the next lesson, we will use the same setup to build apps to continuously retrieve data from Arduino while still controlling it. This requires **asynchronous computing**, and therefore a bit more sophistication."
   ]
  },
  {
   "cell_type": "markdown",
   "metadata": {},
   "source": [
    "## Computing environment"
   ]
  },
  {
   "cell_type": "code",
   "execution_count": 24,
   "metadata": {
    "tags": [
     "hide-input"
    ]
   },
   "outputs": [
    {
     "name": "stdout",
     "output_type": "stream",
     "text": [
      "Python implementation: CPython\n",
      "Python version       : 3.8.10\n",
      "IPython version      : 7.22.0\n",
      "\n",
      "serial    : 3.5\n",
      "bokeh     : 2.3.2\n",
      "jupyterlab: 3.0.14\n",
      "\n"
     ]
    }
   ],
   "source": [
    "%load_ext watermark\n",
    "%watermark -v -p serial,bokeh,jupyterlab"
   ]
  }
 ],
 "metadata": {
  "kernelspec": {
   "display_name": "Python 3",
   "language": "python",
   "name": "python3"
  },
  "language_info": {
   "codemirror_mode": {
    "name": "ipython",
    "version": 3
   },
   "file_extension": ".py",
   "mimetype": "text/x-python",
   "name": "python",
   "nbconvert_exporter": "python",
   "pygments_lexer": "ipython3",
   "version": "3.7.0"
  }
 },
 "nbformat": 4,
 "nbformat_minor": 4
}
